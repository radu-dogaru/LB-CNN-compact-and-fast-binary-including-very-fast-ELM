{
  "nbformat": 4,
  "nbformat_minor": 0,
  "metadata": {
    "accelerator": "GPU",
    "colab": {
      "name": "LB_CNN_optimizer_trainer.ipynb",
      "provenance": [],
      "collapsed_sections": [],
      "toc_visible": true,
      "machine_shape": "hm"
    },
    "kernelspec": {
      "display_name": "Python 3",
      "name": "python3"
    }
  },
  "cells": [
    {
      "cell_type": "markdown",
      "metadata": {
        "id": "3lhvX20tRAuh"
      },
      "source": [
        "Code in support for paper:\n",
        "\n",
        "-----\n",
        "Radu Dogaru, Ioana Dogaru, \"LB-CNN: An Open Source Framework for Fast Training of Light Binary Convolutional Neural Networks using Chainer and Cupy\",\n",
        "\n",
        "https://arxiv.org/ftp/arxiv/papers/2106/2106.15350.pdf \n",
        "\n",
        "Allows to optimize / train a binary convolutional compact NL-CNN model. \n",
        "------\n",
        "\n",
        "Copyright Radu & Ioana DOGARU, May 2021  \n"
      ]
    },
    {
      "cell_type": "markdown",
      "metadata": {
        "id": "l41q787JR0io"
      },
      "source": [
        "#Cell 0 - reads the available GPU "
      ]
    },
    {
      "cell_type": "code",
      "metadata": {
        "colab": {
          "base_uri": "https://localhost:8080/"
        },
        "id": "HG-4kcmhDVj1",
        "outputId": "da7556ca-b40e-4157-a557-e47956f96340"
      },
      "source": [
        "# CELL 0 - DETAILS ABOUT THE AVAILABLE GPU \n",
        "!nvidia-smi"
      ],
      "execution_count": null,
      "outputs": [
        {
          "output_type": "stream",
          "text": [
            "Tue Jun 15 13:31:07 2021       \n",
            "+-----------------------------------------------------------------------------+\n",
            "| NVIDIA-SMI 465.27       Driver Version: 460.32.03    CUDA Version: 11.2     |\n",
            "|-------------------------------+----------------------+----------------------+\n",
            "| GPU  Name        Persistence-M| Bus-Id        Disp.A | Volatile Uncorr. ECC |\n",
            "| Fan  Temp  Perf  Pwr:Usage/Cap|         Memory-Usage | GPU-Util  Compute M. |\n",
            "|                               |                      |               MIG M. |\n",
            "|===============================+======================+======================|\n",
            "|   0  Tesla T4            Off  | 00000000:00:04.0 Off |                    0 |\n",
            "| N/A   56C    P8    11W /  70W |      0MiB / 15109MiB |      0%      Default |\n",
            "|                               |                      |                  N/A |\n",
            "+-------------------------------+----------------------+----------------------+\n",
            "                                                                               \n",
            "+-----------------------------------------------------------------------------+\n",
            "| Processes:                                                                  |\n",
            "|  GPU   GI   CI        PID   Type   Process name                  GPU Memory |\n",
            "|        ID   ID                                                   Usage      |\n",
            "|=============================================================================|\n",
            "|  No running processes found                                                 |\n",
            "+-----------------------------------------------------------------------------+\n"
          ],
          "name": "stdout"
        }
      ]
    },
    {
      "cell_type": "code",
      "metadata": {
        "id": "ARvueV3l2PCF",
        "colab": {
          "base_uri": "https://localhost:8080/"
        },
        "outputId": "f2c5b355-2411-4c87-bd9f-60c5a09f906f"
      },
      "source": [
        "# Run this cell if CHAINER / CUPY are not installed on your platform \n",
        "!pip install 'cupy-cuda101>=7.7.0,<8.0.0'\n",
        "!pip install chainer"
      ],
      "execution_count": null,
      "outputs": [
        {
          "output_type": "stream",
          "text": [
            "Collecting cupy-cuda101<8.0.0,>=7.7.0\n",
            "\u001b[?25l  Downloading https://files.pythonhosted.org/packages/ee/e9/e995fa9785151faf39804bfe7d51f1cf1cc75d8e6a62a03f03744d4665df/cupy_cuda101-7.8.0-cp37-cp37m-manylinux1_x86_64.whl (370.3MB)\n",
            "\u001b[K     |████████████████████████████████| 370.3MB 45kB/s \n",
            "\u001b[?25hRequirement already satisfied: six>=1.9.0 in /usr/local/lib/python3.7/dist-packages (from cupy-cuda101<8.0.0,>=7.7.0) (1.15.0)\n",
            "Requirement already satisfied: fastrlock>=0.3 in /usr/local/lib/python3.7/dist-packages (from cupy-cuda101<8.0.0,>=7.7.0) (0.6)\n",
            "Requirement already satisfied: numpy>=1.9.0 in /usr/local/lib/python3.7/dist-packages (from cupy-cuda101<8.0.0,>=7.7.0) (1.19.5)\n",
            "Installing collected packages: cupy-cuda101\n",
            "  Found existing installation: cupy-cuda101 9.1.0\n",
            "    Uninstalling cupy-cuda101-9.1.0:\n",
            "      Successfully uninstalled cupy-cuda101-9.1.0\n",
            "Successfully installed cupy-cuda101-7.8.0\n",
            "Collecting chainer\n",
            "\u001b[?25l  Downloading https://files.pythonhosted.org/packages/8c/44/956e782948d65d30716e638f070b82d67bda4abc7038be90682739bf8768/chainer-7.8.0.tar.gz (1.0MB)\n",
            "\u001b[K     |████████████████████████████████| 1.0MB 24.9MB/s \n",
            "\u001b[?25hRequirement already satisfied: setuptools in /usr/local/lib/python3.7/dist-packages (from chainer) (57.0.0)\n",
            "Requirement already satisfied: typing_extensions in /usr/local/lib/python3.7/dist-packages (from chainer) (3.7.4.3)\n",
            "Requirement already satisfied: filelock in /usr/local/lib/python3.7/dist-packages (from chainer) (3.0.12)\n",
            "Requirement already satisfied: numpy>=1.9.0 in /usr/local/lib/python3.7/dist-packages (from chainer) (1.19.5)\n",
            "Requirement already satisfied: protobuf>=3.0.0 in /usr/local/lib/python3.7/dist-packages (from chainer) (3.12.4)\n",
            "Requirement already satisfied: six>=1.9.0 in /usr/local/lib/python3.7/dist-packages (from chainer) (1.15.0)\n",
            "Building wheels for collected packages: chainer\n",
            "  Building wheel for chainer (setup.py) ... \u001b[?25l\u001b[?25hdone\n",
            "  Created wheel for chainer: filename=chainer-7.8.0-cp37-none-any.whl size=967735 sha256=bac7df19e598ed659a7c1de3bab0a209d30950339592b1e0afc55d9cc5896fd8\n",
            "  Stored in directory: /root/.cache/pip/wheels/9e/2a/68/e29d17f2a8febda6d531a52b595416cb1b6df1b2be02610fed\n",
            "Successfully built chainer\n",
            "Installing collected packages: chainer\n",
            "Successfully installed chainer-7.8.0\n"
          ],
          "name": "stdout"
        }
      ]
    },
    {
      "cell_type": "markdown",
      "metadata": {
        "id": "oU1D5cstSLSB"
      },
      "source": [
        "# Cell 1 a  (Reads the ORL dataset)"
      ]
    },
    {
      "cell_type": "code",
      "metadata": {
        "colab": {
          "base_uri": "https://localhost:8080/"
        },
        "id": "1aMWaQ8zPvMz",
        "outputId": "f5b643c9-a138-499f-d649-035c363d4dcd"
      },
      "source": [
        "# CELL 1a - loading a specific dataset \n",
        "# ---- CELLS of type 1a can be added for specific datasets \n",
        "\n",
        "# Here datasets from SKLEARN - here the ORL Face recognition \n",
        "# with possibility to select the fraction for training \n",
        "#--------------------------------------------------------\n",
        "k1=250     # Training samples \n",
        "toate=400  # All images \n",
        "#---------------------------------------------------------\n",
        "import tensorflow as tf\n",
        "from sklearn import datasets as dat\n",
        "import numpy as np\n",
        "e=dat.fetch_olivetti_faces(data_home=None, shuffle=True, random_state=0, download_if_missing=True)\n",
        "\n",
        "\n",
        "x_train=e.images[0:k1,:,:]\n",
        "x_test=e.images[k1:toate,:,:]\n",
        "y_train=e.target[0:k1]\n",
        "y_test=e.target[k1:toate]\n",
        "\n",
        "if (np.ndim(x_train)==3):   # E.g.  MNIST or F-MNIST  \n",
        "    x_train=np.reshape(x_train, [np.shape(x_train)[0],np.shape(x_train)[1],np.shape(x_train)[2], 1]) \n",
        "    x_test=np.reshape(x_test, [np.shape(x_test)[0],np.shape(x_test)[1],np.shape(x_test)[2], 1] ) \n",
        "# place a  1 in the end to keep it compatible with kernel in conv2d \n",
        "\n",
        "x_train = x_train.astype('float32')\n",
        "x_test = x_test.astype('float32')\n",
        "\n",
        "y_train=np.reshape(y_train, [np.shape(y_train)[0], 1]) \n",
        "y_test=np.reshape(y_test, [np.shape(y_test)[0], 1] ) \n",
        "num_classes=np.max(y_train)+1\n",
        "\n",
        "y_train_nc=y_train  #-----------------------------------------\n",
        "y_test_nc=y_test  # keep non-categorical version for ELM training \n",
        "\n",
        "y_train = tf.keras.utils.to_categorical(y_train, num_classes)\n",
        "y_test = tf.keras.utils.to_categorical(y_test, num_classes)\n",
        "inp_chan=np.shape(x_train)[3]\n",
        "num_inputs = np.shape(x_test)[1]\n",
        "input_shape=np.shape(x_train)[1:4]"
      ],
      "execution_count": null,
      "outputs": [
        {
          "output_type": "stream",
          "text": [
            "downloading Olivetti faces from https://ndownloader.figshare.com/files/5976027 to /root/scikit_learn_data\n"
          ],
          "name": "stdout"
        }
      ]
    },
    {
      "cell_type": "markdown",
      "metadata": {
        "id": "a-Ielv20SR8k"
      },
      "source": [
        "# Cell 1 b  (Reads other, medium-sized datasets: MNIST, CIFAR, F-MNIST )\n",
        "When using the fast optimizer (cells 2-6) use reduced=10000 here to avoid GPU-RAM overflow "
      ]
    },
    {
      "cell_type": "code",
      "metadata": {
        "colab": {
          "base_uri": "https://localhost:8080/"
        },
        "id": "yFFIr2Je52eN",
        "outputId": "049d0f57-ba7f-46e7-ffd2-a6db3dd50610"
      },
      "source": [
        "# CELL 1B \n",
        "# Datasets from Keras - MNIST, F_MNIST, CIFAR \n",
        "#---------------------------------------------------\n",
        "# In the kernel optimization phase a small number of training samples must be considered. \n",
        "# After optimization re-run the cell to load the entire data set  \n",
        "#------------------------------------------------------------------------\n",
        "dataset='cifar10' # mnist or f-mnist or cifar10 \n",
        "reduced=10000  # Use as little as possible to accomodate the available GPU RAM \n",
        "#------------------------------------------------------------------------------------\n",
        "\n",
        "import numpy as np\n",
        "import tensorflow as tf\n",
        "\n",
        " \n",
        "dformat='channels_last'\n",
        "\n",
        "from keras.datasets import mnist, cifar10, cifar100, fashion_mnist\n",
        "\n",
        "if dataset=='mnist':\n",
        "    (x_train, y_train), (x_test, y_test) = mnist.load_data() # incarca date nescalate \n",
        "elif  dataset=='cifar10': \n",
        "    (x_train, y_train), (x_test, y_test) = cifar10.load_data() # incarca date nescalate \n",
        "elif  dataset=='cifar100': \n",
        "    (x_train, y_train), (x_test, y_test) = cifar100.load_data() # incarca date nescalate \n",
        "elif dataset=='f-mnist':\n",
        "    (x_train, y_train), (x_test, y_test) =  fashion_mnist.load_data()\n",
        "\n",
        "if (np.ndim(x_train)==3):   # E.g.  MNIST or F-MNIST  \n",
        "    x_train=np.reshape(x_train, [np.shape(x_train)[0],np.shape(x_train)[1],np.shape(x_train)[2], 1]) \n",
        "    x_test=np.reshape(x_test, [np.shape(x_test)[0],np.shape(x_test)[1],np.shape(x_test)[2], 1] ) \n",
        "# place a  1 in the end to keep it compatible with kernel in conv2d \n",
        "# scaling in ([0,1])\n",
        "x_train = x_train.astype('float32')\n",
        "x_test = x_test.astype('float32')\n",
        "x_train /= 255\n",
        "x_test /=255 \n",
        "inp_chan=np.shape(x_train)[3] \n",
        "print('Number of input channels in image:', inp_chan)\n",
        "num_classes=np.max(y_train)+1\n",
        "num_inputs = np.shape(x_test)[1]\n",
        "input_shape=np.shape(x_train)[1:4]\n",
        "\n",
        "y_train_nc=y_train  #-----------------------------------------\n",
        "y_test_nc=y_test  # Keep non-categorical version for ELM training  \n",
        "\n",
        "\n",
        "if reduced>0:\n",
        "    Ntr1=reduced\n",
        "    x_train=x_train[0:Ntr1,:,:,:]\n",
        "    y_train=y_train[0:Ntr1]\n",
        "    y_train_nc=y_train\n",
        "y_train = tf.keras.utils.to_categorical(y_train, num_classes)\n",
        "y_test = tf.keras.utils.to_categorical(y_test, num_classes)\n",
        "\n",
        "#----------------------------------------------------------------------------\n"
      ],
      "execution_count": null,
      "outputs": [
        {
          "output_type": "stream",
          "text": [
            "Number of input channels in image: 3\n"
          ],
          "name": "stdout"
        }
      ]
    },
    {
      "cell_type": "markdown",
      "metadata": {
        "id": "8iJqFwNVSr0B"
      },
      "source": [
        "# Cell 2  ( Moves data on GPU for fast optimization and training  ). \n",
        "Run only after loading a new dataset and if Cupy/ Chainer optimizer is used"
      ]
    },
    {
      "cell_type": "code",
      "metadata": {
        "colab": {
          "base_uri": "https://localhost:8080/"
        },
        "id": "5rWrq5Cf3WIs",
        "outputId": "e39ab15c-3d91-4f27-b26e-b91def232ce3"
      },
      "source": [
        "# CELL 2 - Must run when for CUPY/CHAINER implementation \n",
        "#---------  converts datasest into Chainer format and puts them on GPU \n",
        "\n",
        "import time as ti \n",
        "import cupy as cp\n",
        "import chainer \n",
        "from chainer.functions import convolution_2d, depthwise_convolution_2d, relu, flatten, max_pooling_2d, reshape\n",
        "chainer.configuration.config.cudnn_deterministic=True  \n",
        "chainer.using_config('autotune',True)\n",
        "\n",
        "xc_train=np.moveaxis(x_train,3,1)\n",
        "xc_test=np.moveaxis(x_test,3,1)\n",
        "# move on GPU \n",
        "xc_train_g=cp.asarray(xc_train)\n",
        "xc_test_g=cp.asarray(xc_test)\n",
        "\n",
        "c_in=np.size(xc_train,1)\n",
        "print('===============  input data =========================================')\n",
        "print('Channels in input image: ',c_in)\n",
        "print('Size of raw input samples:', np.size(xc_train,2),'x',np.size(xc_train,3))\n",
        "print('Number of training samples: ',np.size(xc_train,0))\n",
        "\n"
      ],
      "execution_count": null,
      "outputs": [
        {
          "output_type": "stream",
          "text": [
            "/usr/local/lib/python3.7/dist-packages/chainer/_environment_check.py:75: UserWarning: \n",
            "--------------------------------------------------------------------------------\n",
            "CuPy (cupy-cuda101) version 9.1.0 may not be compatible with this version of Chainer.\n",
            "Please consider installing the supported version by running:\n",
            "  $ pip install 'cupy-cuda101>=7.7.0,<8.0.0'\n",
            "\n",
            "See the following page for more details:\n",
            "  https://docs.cupy.dev/en/latest/install.html\n",
            "--------------------------------------------------------------------------------\n",
            "\n",
            "  requirement=requirement, help=help))\n"
          ],
          "name": "stderr"
        },
        {
          "output_type": "stream",
          "text": [
            "===============  input data =========================================\n",
            "Channels in input image:  1\n",
            "Size of raw input samples: 64 x 64\n",
            "Number of training samples:  250\n"
          ],
          "name": "stdout"
        }
      ]
    },
    {
      "cell_type": "markdown",
      "metadata": {
        "id": "hI9-eXQNTKm5"
      },
      "source": [
        "# Cell 4  (Relevant functions for the Chianer/Cupy fast optimizer)\n",
        "Run only once. "
      ]
    },
    {
      "cell_type": "code",
      "metadata": {
        "id": "KjcTKtYN_GHP"
      },
      "source": [
        "# CELL 4 - defines functions for the BNL-CNN with CUPY ELM training \n",
        "#---------------------------------------------------------------------\n",
        "#  Useful functions and imports \n",
        "#------------------------------------------------\n",
        "#  Next:  CUPY - ELM (very fast training when data is already on GPU) \n",
        "# ================================================================\n",
        "\n",
        "\n",
        "def hidden_nonlin(hid_in, tip):\n",
        "# implementation of the hidden layer \n",
        "# additional nonlinearitys may be added \n",
        "    if tip==0: \n",
        "        # sigmoid \n",
        "        H=cp.tanh(hid_in)        \n",
        "    elif tip==1:\n",
        "        # linsat \n",
        "        H=cp.abs(1+hid_in)-cp.abs(1-hid_in)\n",
        "    elif tip==2:\n",
        "        # ReLU\n",
        "        H=cp.abs(hid_in)+hid_in\n",
        "    elif tip==3:\n",
        "        #  very well suited for emmbeded systems \n",
        "        H=cp.abs(hid_in)\n",
        "    elif tip==4:\n",
        "        H=cp.sqrt(hid_in*hid_in+1)\n",
        "        # multiquadric \n",
        "    elif tip==5:\n",
        "        H=cp.sign(hid_in)\n",
        "        # multiquadric\n",
        "    return H\n",
        "        \n",
        "# ELM training \n",
        "def elmTrain_optim(X, Y, h_Neurons, C , tip):\n",
        "# Training phase - floating point precision (no quantization)\n",
        "# X - Samples (feature vectors) Y - Labels\n",
        "      Ntr = cp.size(X,1)\n",
        "      in_Neurons = cp.size(X,0)\n",
        "      classes = cp.size(Y,0)\n",
        "      \n",
        "      #   Generate inW layer  \n",
        "      if h_Neurons>0:\n",
        "          rnd = cp.random.RandomState()\n",
        "          inW=-1+2*rnd.rand(h_Neurons, in_Neurons).astype('float32')\n",
        "          \n",
        "          #inW=cp.dot(inW,CO)\n",
        "          #  Compute hidden layer \n",
        "          hid_inp = cp.dot(inW, X)\n",
        "          H=hidden_nonlin(hid_inp,tip)\n",
        "      elif h_Neurons==0:\n",
        "          inW=cp.asarray([])\n",
        "          h_Neurons=in_Neurons\n",
        "          H = X\n",
        "      \n",
        "      # Moore - Penrose computation of output weights (outW) layer \n",
        "      if h_Neurons<Ntr:\n",
        "          print('LLL - Less neurons than training samples')\n",
        "          outW = cp.linalg.solve(cp.eye(h_Neurons)/C+cp.dot(H,H.T), cp.dot(H,Y.T))     \n",
        "      else:\n",
        "          print('MMM - More neurons than training samples')\n",
        "          outW = cp.dot(H,cp.linalg.solve(cp.eye(Ntr)/C+cp.dot(H.T,H), Y.T))\n",
        "      return inW, outW \n",
        "\n",
        "\n",
        "# implements the ELM training procedure with weight quantization       \n",
        "def elmTrain_fix( X, Y, h_Neurons, C , tip, ni):\n",
        "# Training phase - emulated fixed point precision (ni bit quantization)\n",
        "# X - Samples (feature vectors) Y - Labels\n",
        "# ni - number of bits to quantize the inW\n",
        "      Ntr = cp.size(X,1)\n",
        "      in_Neurons = cp.size(X,0)\n",
        "      classes = cp.size(Y,0)\n",
        "    \n",
        "      #   Generate inW layer  \n",
        "      if h_Neurons>0:\n",
        "          rnd = cp.random.RandomState()\n",
        "          inW=-1+2*rnd.rand(h_Neurons, in_Neurons).astype('float32')\n",
        "          #inW=rnd.randn(nHiddenNeurons, nInputNeurons).astype('float32')\n",
        "          Qi=-1+pow(2,ni-1) \n",
        "          inW=cp.round_(inW*Qi)\n",
        "          #  Compute hidden layer \n",
        "          hid_inp = cp.dot(inW, X)\n",
        "          H=hidden_nonlin(hid_inp,tip)\n",
        "      elif h_Neurons==0:\n",
        "          inW=cp.asarray([])\n",
        "          h_Neurons=in_Neurons\n",
        "          H = X     \n",
        "      # Moore - Penrose computation of output weights (outW) layer \n",
        "      if h_Neurons<Ntr:\n",
        "          print('LLL - Less neurons than training samples')\n",
        "          outW = cp.linalg.solve(cp.eye(h_Neurons)/C+cp.dot(H,H.T), cp.dot(H,Y.T))     \n",
        "      else:\n",
        "          print('MMM - More neurons than training samples')\n",
        "          outW = cp.dot(H,cp.linalg.solve(cp.eye(Ntr)/C+cp.dot(H.T,H), Y.T))\n",
        "     \n",
        "      return inW, outW \n",
        "      \n",
        "# ELM predict  (using a model defined by: [inW, outW, tip])\n",
        "def elmPredict_optim( X, inW, outW, tip, ts_Labels):\n",
        "# implements the ELM predictor given the model as arguments \n",
        "# model is given by inW, outW and tip \n",
        "# returns a score matrix (winner class has the maximal score)\n",
        "#------------ 28 mai 2021 - computes accuracies and predicted labels \n",
        "\n",
        "\n",
        "      if cp.size(inW)==0: \n",
        "        H=X\n",
        "        \n",
        "      else: \n",
        "        hid_in=cp.dot(inW, X)\n",
        "        H=hidden_nonlin(hid_in,tip)\n",
        "      #print('aspect:',np.shape(H))\n",
        "      score = np.transpose(cp.dot(cp.transpose(H),outW))\n",
        "      pred=1+cp.argmax(score, axis=0) # predicted labels (min =1)\n",
        "      # Given the ts_Labels one may compute accuracy \n",
        "      correct=cp.count_nonzero(pred==ts_Labels)\n",
        "      Ns=np.shape(cp.asnumpy(ts_Labels))[1]\n",
        "      acc=correct/Ns\n",
        "      \n",
        "      return pred, acc \n",
        "        \n",
        "# Binary kernles generator - supports the NL-CNN model with depthwise_convolution \n",
        "# \n",
        "\n",
        "def ker_gen_x(c_in,nf1,nf2,nf3, nl, convs):   # \n",
        "    kers=[]\n",
        "    ker=cp.sign(cp.random.rand(nf1, c_in, 3, 3).astype('float32')-0.5)\n",
        "    kers.append(ker)\n",
        "    if nl[0]>1:\n",
        "      for k in range(-1+nl[0]):\n",
        "        ker=cp.sign(cp.random.rand(1, c_in*nf1, 3, 3).astype('float32')-0.5)\n",
        "        kers.append(ker)\n",
        "\n",
        "\n",
        "    # --------- LAYER 2 ----------------------   \n",
        "    if convs>1: \n",
        "      ker=cp.sign(cp.random.rand(nf2, nf1*c_in, 3, 3).astype('float32')-0.5)\n",
        "      kers.append(ker)\n",
        "      if nl[1]>1:\n",
        "        for k in range(-1+nl[1]):\n",
        "          ker=cp.sign(cp.random.rand(1, c_in*nf1*nf2, 3, 3).astype('float32')-0.5)\n",
        "          kers.append(ker)\n",
        "  \n",
        "    # ---- LAYER 3 ----------------------\n",
        "    if convs>2:\n",
        "      ker=cp.sign(cp.random.rand(nf3, nf2*nf1*c_in, 3, 3).astype('float32')-0.5)\n",
        "      kers.append(ker)\n",
        "    return kers\n",
        "\n",
        "# Define the NL_CNN model with (binary) kernels previously generated or learned \n",
        "\n",
        "def my_model(inpdata, nl, convs, kers):  # Implements the nonlinear model NL-CNN \n",
        "    \n",
        "    str1=2 # Same strides on all layers \n",
        "    #print('Strat 1')\n",
        "    net=depthwise_convolution_2d(inpdata, kers[0], pad=1)\n",
        "    #print('Index: ',0)\n",
        "    if nl[0]>1:\n",
        "      for k in range(-1+nl[0]):\n",
        "        net=relu(net)\n",
        "        net=depthwise_convolution_2d(net, kers[k+1], pad=1)\n",
        "        #print('Index: ',k+1)\n",
        "    net=max_pooling_2d(net,ksize=4,stride=str1, pad=1, cover_all=True)\n",
        "    if convs>1: \n",
        "      #------------- second macro-layer \n",
        "      #print('Strat 2')\n",
        "      net=depthwise_convolution_2d(net, kers[nl[0]], pad=1)\n",
        "      #print('Index: ',nl[0])\n",
        "      if nl[1]>1:\n",
        "        for k in range(-1+nl[1]):\n",
        "          net=relu(net)\n",
        "          #print('Index: ',k+1+nl[0])\n",
        "          net=depthwise_convolution_2d(net, kers[k+1+nl[0]], pad=1)\n",
        "        \n",
        "    \n",
        "      net=max_pooling_2d(net,ksize=4,stride=str1, pad=1, cover_all=True)\n",
        "    if convs>2:\n",
        "      # ---------- 3'd macrolayer \n",
        "      #print('Strat 3')\n",
        "      #print('Index: ',nl[0]+nl[1])\n",
        "      net=depthwise_convolution_2d(net, kers[nl[0]+nl[1]], pad=1)\n",
        "      net=max_pooling_2d(net, ksize=4,stride=str1, pad=1, cover_all=True)\n",
        "    shp=np.shape(net)\n",
        "    # -- FLATTEN + ELM style input conversion \n",
        "    perm=(0,2,3,1)  # Permute for compatibility with TF/Keras models  \n",
        "    net=reshape(net.transpose(perm),(shp[0],shp[1]*shp[2]*shp[3]))\n",
        "    print(shp)\n",
        "    return net\n"
      ],
      "execution_count": null,
      "outputs": []
    },
    {
      "cell_type": "markdown",
      "metadata": {
        "id": "yNz432kPTZ4G"
      },
      "source": [
        "# Cell 5  (Initialize the loop process in cell 6)\n",
        "Run when a new optimization loop (Running Cell 6 for several trials) starts"
      ]
    },
    {
      "cell_type": "code",
      "metadata": {
        "id": "64YkhAw7eqry"
      },
      "source": [
        "# CELL 5 - Run only once before starting random binary kernel trials with CELL 6 \n",
        "#----------------------------------------------------\n",
        "# Run this cell at the beginning of the optimization process\n",
        "\n",
        "All=np.zeros(0)  # DO The next cell until the best performance (accuracy) is acceptable \n",
        "best_ac=0\n",
        "\n",
        "# Then run next cell as many trials are needed to improve performance \n"
      ],
      "execution_count": null,
      "outputs": []
    },
    {
      "cell_type": "markdown",
      "metadata": {
        "id": "NMR1rJaeTuk6"
      },
      "source": [
        "# Cell 6 (Defines LB-CNN model optimzie and train the ELM output)\n",
        "Each running is a trial. Run cell 6 with **use_stored=0** as many times (trials) as needed to improve accuracy. \n",
        "\n",
        "When the accuracy is convenient run cell 6 again using **use_stored=1** "
      ]
    },
    {
      "cell_type": "code",
      "metadata": {
        "colab": {
          "base_uri": "https://localhost:8080/"
        },
        "id": "6S--owNUHQqP",
        "outputId": "a4c8be26-d520-4e2a-fcfa-e365b3a4a933"
      },
      "source": [
        "# CELL 6 \n",
        "# -- Run as many trials as needed to improve the ELM0 accuracy \n",
        "# then put use_stored=1 and run again for best kernels (bk)\n",
        "\n",
        "# CUPY/CHAINER model with random kernels at each stage !\n",
        "# Run several times to improve the accuracy \n",
        "#--------------------------------------------------------------------------------------\n",
        "use_stored=1  # 0 = uses random kernles ; 1 - uses the bk (best solution found during the trials)\n",
        "conv_layers=2 # convolution layers - \n",
        "nf1=5; nf2=4; nf3=2 # filers in conv layers  \n",
        "# Here the filters for the depthwise model only \n",
        "NL=(1,1) # Nonlinearity for the NL-CNN model \n",
        "\n",
        "#----------- ELM setup ----------------------------------\n",
        "nr_neuroni=0 # 0 = ELM0 (with no hidden layer)\n",
        "C=0.0010  \n",
        "tip=3 # Neliniaritate strat ascuns (0-tanh, 1-linsat, 2-ReLu, 3- abs(), 4-multiquad, 5 sign() )  \n",
        "nb_in=2;  # 0 = float; >0 = nr. biti cuantizare ponderi strat intrare \n",
        "nb_out=8; # 0 = float; >0 = output layer fixed point quantization \n",
        "\n",
        "\n",
        "# GENERATE KERNLES (BINARY)\n",
        "if use_stored==0:\n",
        "  kers=ker_gen_x(c_in, nf1, nf2, nf3, NL, conv_layers)\n",
        "else: \n",
        "  kers=bk \n",
        "\n",
        "# ----------------------- IMPLEMENT CONV LAYERS ON TRAIN SET\n",
        "\n",
        "t1=ti.time()\n",
        "net=my_model(xc_train_g, NL, conv_layers, kers)\n",
        "\n",
        "# Conversion of data in ELM format  \n",
        "Samples_g=chainer.variable.as_array(net.T)\n",
        "Labels=np.reshape(y_train_nc+1,(1,np.shape(y_train_nc)[0]))\n",
        "Y=2*y_train.T-1\n",
        "t2=ti.time(); print('Train set convolution time:', t2-t1,' seconda')\n",
        "# ----------------------- IMPLEMENT CONV LAYERS ON TEST SET\n",
        "t1=ti.time()\n",
        "net=my_model(xc_test_g, NL, conv_layers, kers)\n",
        "\n",
        "# Conversie pe CP var NUMPY \n",
        "ts_Samples_g=chainer.variable.as_array(net.T)\n",
        "ts_Labels=np.reshape(y_test_nc+1,(1,np.shape(y_test_nc)[0]))\n",
        "t2=ti.time(); print('Test set convolution time', t2-t1,' seconds')\n",
        "\n",
        "clase=np.max(Labels); print('Classes: ',clase)\n",
        "out_conv=np.shape(net)[1]\n",
        "print('===============  convolved data =========================================')\n",
        "print('Size of the output, convolved layer (nout): ',out_conv)\n",
        "print('===============Now ELM training ===============================================')\n",
        "\n",
        "\n",
        "\n",
        "Labels_g=cp.asarray(Labels)\n",
        "Y_g=cp.asarray(Y)\n",
        "ts_Labels_g=cp.asarray(ts_Labels)\n",
        "\n",
        "#-------------------------------------------------------------------\n",
        "# ELM running  \n",
        "import time as ti \n",
        "\n",
        "#================= TRAIN ELM =====================================================\n",
        "t1 = ti.time()\n",
        "if nr_neuroni==0:\n",
        "    nb_in=0\n",
        "if nb_in>0:\n",
        "    inW, outW = elmTrain_fix(Samples_g, Y_g, nr_neuroni, C, tip, nb_in)\n",
        "else:\n",
        "    inW, outW = elmTrain_optim(Samples_g, Y_g, nr_neuroni, C, tip)\n",
        "trun = ti.time()-t1\n",
        "print(\" training time: %f seconds\" %trun)\n",
        "\n",
        "# ==============  Quantify the output layer ======================================\n",
        "Qout=-1+pow(2,nb_out-1)\n",
        "if nb_out>0:\n",
        "     O=cp.max(cp.abs(outW))\n",
        "     outW=cp.round_(outW*(1/O)*Qout)\n",
        "\n",
        "del Samples_g\n",
        "#====================== VALIDATION PHASE (+ Accuracy evaluation) =================\n",
        "t1 = ti.time()\n",
        "(pred_g, acc_g) = elmPredict_optim(ts_Samples_g, inW, outW, tip, ts_Labels_g)\n",
        "trun = ti.time()-t1\n",
        "print( \" prediction time: %f seconds\" %trun)\n",
        "print('ELM latency',1e6*trun/np.shape(ts_Labels)[1],' us')\n",
        "accuracy=cp.asnumpy(acc_g)\n",
        "\n",
        "print('----------------------------------------------------------')\n",
        "print('|              Accuracy is: ', 100*acc_g, '%             |')\n",
        "print('----------------------------------------------------------')\n",
        "\n",
        "print('===========Structure information ===============================')\n",
        "szk=len(kers)\n",
        "kbits=0\n",
        "for ii in range(szk):\n",
        "  kbits+=np.prod(np.shape(cp.asnumpy(kers[ii])))\n",
        "print('CONV: Number of bits in convolutional kernels: ', kbits)\n",
        "print('OUTP: Number of its in the output layer - ELM0: ', 8*clase*out_conv)\n",
        "\n",
        "print( \"Number of hidden neurons: %d\" %nr_neuroni)\n",
        "#print( \"Hidden nonlinearity (0=sigmoid; 1=linsat; 2=Relu; 3 - ABS; 4- multiquadric): %d\" %tip)\n",
        "print('Number of conv filters:  as follows: conv_layers:',conv_layers,' nf1:', nf1,' nf2: ', nf2, 'nf3: ',nf3 ) \n",
        "#print('C= ',C)   \n",
        "\n",
        "#====================================================================================   \n",
        "if accuracy>best_ac:\n",
        "  best_ac=accuracy\n",
        "  best_outw=outW\n",
        "  # update bk \n",
        "  print('Bk updated')\n",
        "  bk=kers\n",
        "\n",
        "All=np.append(All, accuracy)"
      ],
      "execution_count": null,
      "outputs": [
        {
          "output_type": "stream",
          "text": [
            "(250, 20, 16, 16)\n",
            "Train set convolution time: 0.0018644332885742188  seconda\n",
            "(150, 20, 16, 16)\n",
            "Test set convolution time 0.003535032272338867  seconds\n",
            "Classes:  40\n",
            "===============  convolved data =========================================\n",
            "Size of the output, convolved layer (nout):  5120\n",
            "===============Now ELM training ===============================================\n",
            "MMM - More neurons than training samples\n",
            " training time: 0.001623 seconds\n",
            " prediction time: 0.013670 seconds\n",
            "ELM latency 91.13152821858723  us\n",
            "----------------------------------------------------------\n",
            "|              Accuracy is:  100.0 %             |\n",
            "----------------------------------------------------------\n",
            "===========Structure information ===============================\n",
            "CONV: Number of bits in convolutional kernels:  225\n",
            "OUTP: Number of its in the output layer - ELM0:  1638400\n",
            "Number of hidden neurons: 0\n",
            "Number of conv filters:  as follows: conv_layers: 2  nf1: 5  nf2:  4 nf3:  2\n"
          ],
          "name": "stdout"
        }
      ]
    },
    {
      "cell_type": "markdown",
      "metadata": {
        "id": "_gwmDLgqUeZj"
      },
      "source": [
        "# Auxiliarry cell: run to see the accuracies in all previous trials"
      ]
    },
    {
      "cell_type": "code",
      "metadata": {
        "colab": {
          "base_uri": "https://localhost:8080/",
          "height": 332
        },
        "id": "yalXCUfGPAy8",
        "outputId": "6980c751-e444-4a56-d6a8-98d1b35e1597"
      },
      "source": [
        "# Run this cell to show the progress of CUPY-ELM training \n",
        "\n",
        "print(np.max(All))\n",
        "print(np.min(All))\n",
        "print(np.shape(All))\n",
        "import matplotlib.pyplot as plt\n",
        "plt.plot(All)\n",
        "print('Best accuracy is\":: ', best_ac)"
      ],
      "execution_count": null,
      "outputs": [
        {
          "output_type": "stream",
          "text": [
            "1.0\n",
            "0.9466666666666667\n",
            "(45,)\n",
            "Best accuracy is\"::  1.0\n"
          ],
          "name": "stdout"
        },
        {
          "output_type": "display_data",
          "data": {
            "image/png": "[encoded data removed]",
            "text/plain": [
              "<Figure size 432x288 with 1 Axes>"
            ]
          },
          "metadata": {
            "tags": [],
            "needs_background": "light"
          }
        }
      ]
    },
    {
      "cell_type": "markdown",
      "metadata": {
        "id": "H8Ea0RaCUuQd"
      },
      "source": [
        "# Cell 7 - Define the Keras model for further embbeding of the non-standard LB-CNN model from above (defined by bk and outW) \n",
        "Run only once"
      ]
    },
    {
      "cell_type": "code",
      "metadata": {
        "id": "bzlZ1LdkH18A"
      },
      "source": [
        "# CELL 7 - Defining a KERAS / TF Model \n",
        "#---------------------------------------------\n",
        "# Define a L-CNN base model (template to cast the BL-CNN optimized version)\n",
        "\n",
        "from keras.models import Sequential\n",
        "from keras.layers.normalization import BatchNormalization\n",
        "from keras.layers import Dense, Dropout, Flatten, Activation\n",
        "from keras.layers import Conv2D, DepthwiseConv2D, MaxPooling2D, AveragePooling2D, GlobalAveragePooling2D, SeparableConv2D  # straturi convolutionale si max-pooling \n",
        "from keras.optimizers import RMSprop, SGD, Adadelta, Adam, Nadam\n",
        "\n",
        "def create_l_cnn_base_model(input_shape, filtre1=10, filtre2=10, filtre3=10, flat=1, nl=(1,1), convs=3, num_clase=10):\n",
        "  # convs - cate straturi convolutionale sunt implementate \n",
        "  # Arguments: k - multiplication coefficient \n",
        " \n",
        "  csize1=3; csize2=3 ; csize3=3      # convolution kernel size (square kernel) \n",
        "  psize1=4; psize2=4 ; psize3=4      # pooling size (square)\n",
        "  str1=2; str2=2; str3=2             # stride pooling (downsampling rate) \n",
        "  pad='same'; # padding style ('valid' is also an alternative)\n",
        "  type_conv=1\n",
        "  \n",
        "  model = Sequential()\n",
        "  #================= LAYER 1 ========================================================\n",
        "  if type_conv==2:\n",
        "        model.add(Conv2D(filtre1, padding=pad, kernel_size=(csize1, csize1), input_shape=input_shape))\n",
        "  elif type_conv==1:\n",
        "        model.add(DepthwiseConv2D(kernel_size=csize1, padding=pad, input_shape=input_shape, depth_multiplier=filtre1, use_bias=False))\n",
        "        # partea de mai jos emuleaza nl-cnn\n",
        "        if nl[0]>1:\n",
        "          for k in range(nl[0]-1): \n",
        "            model.add(Activation('relu'))\n",
        "            model.add(DepthwiseConv2D(kernel_size=csize1, padding=pad, depth_multiplier=1, use_bias=False))\n",
        " \n",
        "  model.add(MaxPooling2D(pool_size=(psize1, psize1),strides=(str1,str1),padding=pad))\n",
        "  if convs>1: \n",
        "  #================= LAYER 2 ========================================================\n",
        "    if type_conv==2:\n",
        "        model.add(Conv2D(filtre2, padding=pad, kernel_size=(csize2, csize2)) )\n",
        "    elif type_conv==1:\n",
        "        model.add(DepthwiseConv2D(kernel_size=csize2, padding=pad, depth_multiplier=filtre2, use_bias=False))\n",
        "        # Partea de mai jos -- nl=2 \n",
        "        if nl[1]>1:\n",
        "          for k in range(nl[1]-1): \n",
        "            model.add(Activation('relu'))\n",
        "            model.add(DepthwiseConv2D(kernel_size=csize3, padding=pad, depth_multiplier=1, use_bias=False))\n",
        "       \n",
        "        #model.add(Activation('relu'))\n",
        "        #model.add(DepthwiseConv2D(kernel_size=csize2, padding=pad, depth_multiplier=1, use_bias=False))\n",
        "    #model.add(Activation('relu'))\n",
        "    model.add(MaxPooling2D(pool_size=(psize2, psize2),strides=(str2,str2),padding=pad))\n",
        "  if convs>2:\n",
        "  #================= LAYER 3 ========================================================\n",
        "    if type_conv==2:\n",
        "        model.add(Conv2D(filtre3, padding=pad, kernel_size=(csize3, csize3)) )\n",
        "    elif type_conv==1:\n",
        "        model.add(DepthwiseConv2D(kernel_size=csize3, padding=pad, depth_multiplier=filtre3, use_bias=False))\n",
        "  #model.add(Activation('relu'))\n",
        "    model.add(MaxPooling2D(pool_size=(psize3, psize3),strides=(str3,str3),padding=pad))\n",
        "  #================= out \n",
        "  if flat==1:\n",
        "      model.add(Flatten())  # \n",
        "  elif flat==0:\n",
        "      model.add(GlobalAveragePooling2D()) # Global average \n",
        "  # Output dense layer  \n",
        "  model.add(Dense(num_clase,activation='softmax'))\n",
        "  return model\n"
      ],
      "execution_count": null,
      "outputs": []
    },
    {
      "cell_type": "markdown",
      "metadata": {
        "id": "Eo2dzfYCVBvO"
      },
      "source": [
        "#Cell 8 Convert the non-standard LB-CNN model into a Keras model with weights in convolutional layers frozen\n",
        "Use **randk=0**; If **randk=1** one can simply generate a random binary weights LB-CNN model for further Keras training.\n",
        "\n",
        "In case of randk=1 the model is specified in lines 18-20"
      ]
    },
    {
      "cell_type": "code",
      "metadata": {
        "colab": {
          "base_uri": "https://localhost:8080/"
        },
        "id": "kHHkv4i8Lyj4",
        "outputId": "8b683d7d-41f5-4769-f8f1-556cef8217ac"
      },
      "source": [
        "# CELL 8 - IMPLEMENT THE MODEL AND DO THE TRANSFER (if randk=0) from the ELM-trained CUPY/CHAINER model \n",
        "# IF randk=1 A BINARY CNN MODEL IS GENERATED  \n",
        "\n",
        "#-------------------------------------------------------------------------------\n",
        "# Create a base model with binary non-trinable weights optimized via Cupy ELM \n",
        "# bk is used to load the kernel weights \n",
        "\n",
        "import numpy as np\n",
        "import tensorflow as tf\n",
        "import keras\n",
        "trainable=False\n",
        "\n",
        "#--- if commented they are defined in ELM-CUPY section above \n",
        "# uncomment\n",
        "randk=0 # Choose 0 to load the optimzed bk from CUPY-ELM training ( if =1 -> random binary )\n",
        "if randk==1:\n",
        "  # Ignores any ELM-CUPY-training\n",
        "  NL=(1,1)\n",
        "  (nf1,nf2,nf3)=(10,6,2)\n",
        "  conv_layers=2\n",
        "\n",
        "model=create_l_cnn_base_model(input_shape, nf1, nf2, nf3, flat=1, nl=NL, convs=conv_layers, num_clase=num_classes)\n",
        "\n",
        "\n",
        "allw=model.get_weights()\n",
        "nr=NL[0]\n",
        "if conv_layers>1:\n",
        "  nr=nr+NL[1] \n",
        "if conv_layers>2:\n",
        "  nr=nr+1\n",
        "\n",
        "\n",
        "ballw=allw # preparing weights for binarization \n",
        "for i in range(nr):\n",
        "  print('Layer: ',i,' weight shape', np.shape(allw[i]), 'Min: ',np.min(allw[i]), 'Max: ',np.max(allw[i]))\n",
        "  s1=np.shape(allw[i])\n",
        "  tsize=np.shape(np.shape(allw[i]))[0]\n",
        "  #print(np.shape(tsize))\n",
        "  if trainable==False:\n",
        "    if tsize == 4: # Convolutional layer \n",
        "      # Kernels bk - saved previously \n",
        "      if  randk==0: \n",
        "        kerns=cp.asnumpy(bk[i])\n",
        "        kkers=kerns.transpose(2,3,1,0) # Compatibility issue (Chainer -- Keras)\n",
        "        print('Shape Kers: ', np.shape(kkers))\n",
        "        ballw[i]=kkers\n",
        "        print('Shape ballw', np.shape(ballw[i]))\n",
        "      elif randk==1:\n",
        "        ballw[i]=np.sign(np.random.rand(s1[0],s1[1],s1[2],s1[3])-0.5)\n",
        "    elif tsize== 1: # It's not the case for depthwise \n",
        "      ballw[i]=np.sign(np.random.rand(s1[0])-0.5)\n",
        "\n",
        "\n",
        "  print('-------- Layer: ',i,' weights shape', np.shape(ballw[i]), 'Min: ',np.min(ballw[i]), 'Max: ',np.max(ballw[i]))\n",
        "\n",
        "\n",
        "model.set_weights(ballw)\n",
        "\n",
        "# This is needed in TF2.5. \n",
        "inp_shape=(None, input_shape[0], input_shape[1], input_shape[2] )   # Needed in TF2.5 \n",
        "model.build(input_shape=inp_shape)\n",
        "\n",
        "\n",
        "\n",
        "#------------ transfer ELM trained weights to the output layer \n",
        "if randk==0:\n",
        "  bp=model.get_weights()\n",
        "  print(np.shape(bp[nr]))\n",
        "  bp[nr]=(1/1000)*cp.asnumpy(outW)\n",
        "  bp[nr+1]=0*bp[nr+1]   # Bias is 0 \n",
        "  model.set_weights((bp))\n",
        "\n",
        "#-------------------------------------------\n",
        "if randk==1 :\n",
        "  lr=0.001\n",
        "else:\n",
        "  lr=0.00001\n",
        "\n",
        "myopt = Adam(learning_rate=lr)\n",
        "#myopt= RMSprop(learning_rate=0.00001)\n",
        "\n",
        "  # --------------------------   LOSS function  ------------------------------------\n",
        "my_loss='categorical_crossentropy'\n",
        "model.compile(loss=my_loss, \n",
        "              optimizer=myopt,   # any other optimization \n",
        "              metrics=['accuracy'])\n",
        "\n",
        "# If trainable=False - Makes all layers except the last non-trainable (to store binary weights)  \n",
        "nrlayers=len(model.layers)\n",
        "if trainable==False:\n",
        "\n",
        "  for i in range(nrlayers-1):\n",
        "      model.layers[i].trainable=False\n",
        "\n",
        "\n",
        "model.summary()\n"
      ],
      "execution_count": null,
      "outputs": [
        {
          "output_type": "stream",
          "text": [
            "Layer:  0  weight shape (3, 3, 1, 5) Min:  -0.33212885 Max:  0.3302411\n",
            "Shape Kers:  (3, 3, 1, 5)\n",
            "Shape ballw (3, 3, 1, 5)\n",
            "-------- Layer:  0  weights shape (3, 3, 1, 5) Min:  -1.0 Max:  1.0\n",
            "Layer:  1  weight shape (3, 3, 5, 4) Min:  -0.2712606 Max:  0.2717921\n",
            "Shape Kers:  (3, 3, 5, 4)\n",
            "Shape ballw (3, 3, 5, 4)\n",
            "-------- Layer:  1  weights shape (3, 3, 5, 4) Min:  -1.0 Max:  1.0\n",
            "(5120, 40)\n",
            "Model: \"sequential\"\n",
            "_________________________________________________________________\n",
            "Layer (type)                 Output Shape              Param #   \n",
            "=================================================================\n",
            "depthwise_conv2d (DepthwiseC (None, 64, 64, 5)         45        \n",
            "_________________________________________________________________\n",
            "max_pooling2d (MaxPooling2D) (None, 32, 32, 5)         0         \n",
            "_________________________________________________________________\n",
            "depthwise_conv2d_1 (Depthwis (None, 32, 32, 20)        180       \n",
            "_________________________________________________________________\n",
            "max_pooling2d_1 (MaxPooling2 (None, 16, 16, 20)        0         \n",
            "_________________________________________________________________\n",
            "flatten (Flatten)            (None, 5120)              0         \n",
            "_________________________________________________________________\n",
            "dense (Dense)                (None, 40)                204840    \n",
            "=================================================================\n",
            "Total params: 205,065\n",
            "Trainable params: 204,840\n",
            "Non-trainable params: 225\n",
            "_________________________________________________________________\n"
          ],
          "name": "stdout"
        }
      ]
    },
    {
      "cell_type": "markdown",
      "metadata": {
        "id": "8eU2TnWvV5mh"
      },
      "source": [
        "#Cell 9 (auxiliary): Evaluate the Keras model on the test set"
      ]
    },
    {
      "cell_type": "code",
      "metadata": {
        "colab": {
          "base_uri": "https://localhost:8080/"
        },
        "id": "Sk-MJIlTa8bl",
        "outputId": "9afc1e85-f460-4ea5-ee7a-35e0e2c0b5c1"
      },
      "source": [
        "# CELL 9 - Evaluate the accuracy of the model \n",
        "# If OK skip to cell 12 and save the model \n",
        "# Else - additional Keras/Tensorflow training follows (eventually using the entire dataset)\n",
        "\n",
        "score=model.evaluate(x_test, y_test)\n",
        "print(score)\n",
        "\n"
      ],
      "execution_count": null,
      "outputs": [
        {
          "output_type": "stream",
          "text": [
            "5/5 [==============================] - 42s 9ms/step - loss: 0.0339 - accuracy: 1.0000\n",
            "[0.028320852667093277, 1.0]\n"
          ],
          "name": "stdout"
        }
      ]
    },
    {
      "cell_type": "markdown",
      "metadata": {
        "id": "Svu0k1QUWCoZ"
      },
      "source": [
        "#Cell 10 - Additional training of the output layer using Keras optimizers. \n",
        "It is useful to reload the full dataset (Cell 1, reduced=0) "
      ]
    },
    {
      "cell_type": "code",
      "metadata": {
        "colab": {
          "base_uri": "https://localhost:8080/",
          "height": 534
        },
        "id": "lK8HNlkvy-7Y",
        "outputId": "7c1c166b-748a-4b77-c726-5794149ab0fc"
      },
      "source": [
        "# CELL 10 \n",
        "#-------------------------------------------------------------------\n",
        "# Additional training - if needed \n",
        "# Typically improves the accuracy even for the reduced train set \n",
        "# Loading the full dataset and training provides the best performance \n",
        "#-----------------  for reproductibility  ----------------------\n",
        "import tensorflow as tf \n",
        "import keras\n",
        "import numpy as np # linear algebra\n",
        "import keras.backend as K \n",
        "\n",
        "import time as ti \n",
        "import scipy.io as sio\n",
        "import matplotlib.pyplot as plt\n",
        "\n",
        "#=====================================================================\n",
        "batch_size = 10  # useful for MNIST, CIFAR, for ORL take 1  ( eg.50-200 large datasets - 1/1000 train set typicall)\n",
        "epoci = 10 # maximal number of training epochs (the best result may be obtained earlier)\n",
        "train_style = 2 # 1-standard Keras (not recommended) ; 2 epoch by epoch and keeping best test accuracy until \"epoci\"; \n",
        "#-------------- \n",
        "augment=0\n",
        "first_time=1\n",
        "\n",
        "if first_time==1:\n",
        "  best_acc=0.0; best_ep=0\n",
        "else:\n",
        "  from keras.models import load_model\n",
        "  best_acc=0.6\n",
        "  model=load_model('B-nlcnn_gtrsb_88_59.h5')\n",
        "  #model.summary()\n",
        "# ---------------------- For some date augmetation may help  \n",
        "from tensorflow.keras.preprocessing.image import ImageDataGenerator\n",
        "if augment==1:\n",
        "  data_generator = ImageDataGenerator(\n",
        "                        ### --- useful for FER2013 ---\n",
        "                                      \n",
        "                          featurewise_center=False,\n",
        "                          featurewise_std_normalization=False,\n",
        "                          rotation_range=10,\n",
        "                          width_shift_range=0.1,\n",
        "                          height_shift_range=0.1,\n",
        "                          zoom_range=.1,\n",
        "                          horizontal_flip=True \n",
        "                          )\n",
        "  \n",
        "                        #------- useful for CIFAR10 according to https://github.com/moritzhambach/Image-Augmentation-in-Keras-CIFAR-10-\n",
        "elif augment==2:\n",
        "  data_generator = ImageDataGenerator(\n",
        "                          rotation_range=15,\n",
        "                          horizontal_flip=True,\n",
        "                          width_shift_range=0.1,\n",
        "                          height_shift_range=0.1\n",
        "                        #------------------------------\n",
        "                         )\n",
        "elif augment==3:      # Proposed  in https://github.com/khanhnamle1994/fashion-mnist/blob/master/CNN-4Conv.ipynb\n",
        "  data_generator = ImageDataGenerator(rotation_range=8, width_shift_range=0.08, shear_range=0.3,\n",
        "                               height_shift_range=0.08, zoom_range=0.08)\n",
        "\n",
        "\n",
        "#=========================================================================================\n",
        "err_test=np.zeros(epoci)   # For plotting test error evolution  \n",
        "t1=ti.time()\n",
        "for k in range(epoci):\n",
        "      tx=ti.time()\n",
        "      # No augmentation \n",
        "      if augment==0:\n",
        "        model.fit(x_train, y_train,\n",
        "              batch_size=batch_size,\n",
        "              epochs=1,\n",
        "              verbose=0,  # aici 0 (nu afiseaza nimic) 1 (detaliat) 2(numai epocile)\n",
        "              validation_data=(x_test, y_test))\n",
        "        \n",
        "        # ---- Next lines to ensure the model is binary \n",
        "        # although conv layer are set Non-Trainable there is a small update there \n",
        "        bpt=model.get_weights()\n",
        "        #--- next lines ensure binary conv. values \n",
        "        last_layer=len(bpt)\n",
        "        for kz in range(last_layer-2):\n",
        "              bpt[kz]=np.sign(bpt[kz])\n",
        "        model.set_weights(bpt)\n",
        "        \n",
        "       #-----------------------------------------------\n",
        "      elif augment>0:\n",
        "        # Augmented data \n",
        "          model.fit_generator(data_generator.flow(x_train, y_train,\n",
        "              batch_size=batch_size),\n",
        "              epochs=1,shuffle=False, \n",
        "              verbose=0,  # no display \n",
        "              validation_data=(x_test, y_test))\n",
        "              #,callbacks=callbacks)        \n",
        "      ty=ti.time()\n",
        "      print('/',k,'epoch lasted ',ty-tx,' seconds')\n",
        "      \n",
        "      score = model.evaluate(x_test, y_test, verbose=0)\n",
        "\n",
        "      err_test[k]=score[1]\n",
        "      if score[1]>best_acc : \n",
        "            print('Improved in epoch:', k, ' New accuracy: ', 100*score[1],'%')\n",
        "            best_acc=score[1]\n",
        "            best_ep=k\n",
        "            bp=model.get_weights()\n",
        "            \n",
        "t2=ti.time()\n",
        "print('Best accuracy:', best_acc*100, '% reached in epoch: ',best_ep, ' running  ',epoci,' epochs lasts ',t2-t1,' seconds')\n",
        "plt.plot(err_test)\n",
        "model.set_weights((bp)) # evaluete prediction time on all test samples\n",
        "t1=ti.time()\n",
        "score = model.evaluate(x_test, y_test, verbose=0)\n",
        "t2=ti.time()\n",
        "print ('Total number of parameters: ',model.count_params())\n",
        "print('Test accuracy:', score[1])\n",
        "print ('Time for test set : ',t2-t1)\n",
        "print('Latency (per input sample):', 1000*(t2-t1)/np.shape(x_test)[0], 'ms')\n"
      ],
      "execution_count": null,
      "outputs": [
        {
          "output_type": "stream",
          "text": [
            "/ 0 epoch lasted  2.8536946773529053  seconds\n",
            "Improved in epoch: 0  New accuracy:  100.0 %\n",
            "/ 1 epoch lasted  0.18336963653564453  seconds\n",
            "/ 2 epoch lasted  0.1940295696258545  seconds\n",
            "/ 3 epoch lasted  0.3440132141113281  seconds\n",
            "/ 4 epoch lasted  0.22236919403076172  seconds\n",
            "/ 5 epoch lasted  0.18373775482177734  seconds\n",
            "/ 6 epoch lasted  0.3437309265136719  seconds\n",
            "/ 7 epoch lasted  0.18847250938415527  seconds\n",
            "/ 8 epoch lasted  0.17870593070983887  seconds\n",
            "/ 9 epoch lasted  0.34601664543151855  seconds\n",
            "Best accuracy: 100.0 % reached in epoch:  0  running   10  epochs lasts  5.60452127456665  seconds\n",
            "Total number of parameters:  205065\n",
            "Test accuracy: 1.0\n",
            "Time for test set :  0.05387401580810547\n",
            "Latency (per input sample): 0.3591601053873698 ms\n"
          ],
          "name": "stdout"
        },
        {
          "output_type": "display_data",
          "data": {
            "image/png": "[encoded data removed]",
            "text/plain": [
              "<Figure size 432x288 with 1 Axes>"
            ]
          },
          "metadata": {
            "tags": [],
            "needs_background": "light"
          }
        }
      ]
    },
    {
      "cell_type": "code",
      "metadata": {
        "colab": {
          "base_uri": "https://localhost:8080/"
        },
        "id": "k8RV2rvCcias",
        "outputId": "cf98319d-08fb-47f5-e51e-fee7e927a284"
      },
      "source": [
        "import gc\n",
        "gc.collect()\n",
        "# Can be used to free some RAM "
      ],
      "execution_count": null,
      "outputs": [
        {
          "output_type": "execute_result",
          "data": {
            "text/plain": [
              "24138"
            ]
          },
          "metadata": {
            "tags": []
          },
          "execution_count": 27
        }
      ]
    },
    {
      "cell_type": "markdown",
      "metadata": {
        "id": "ww0FMoq7WfWQ"
      },
      "source": [
        "#Cell 11 - Fixed-point quantization of the output layer\n",
        "Try various **nb_out** values in order to obtain simillar accuracy to that prodeced in Cell 10 (using float32 weights in the output layer) "
      ]
    },
    {
      "cell_type": "code",
      "metadata": {
        "colab": {
          "base_uri": "https://localhost:8080/"
        },
        "id": "mk6B3xwP2ETs",
        "outputId": "24de0d48-4acf-4faa-c2ed-4e9067e651c6"
      },
      "source": [
        "# CELL 11 - FIXED POINT QUANTIZATION OF THE OUTPUT DENSE LAYER \n",
        "#---------------------------------------------------------------\n",
        "# QMLP0 (quantified MLP0 module)\n",
        "# Quantization of the above resulted model (only for MLP0)\n",
        "# Copyright Radu and Ioana DOGARU;  \n",
        "#=============================================================\n",
        "nb_out=11  # Quantization factor (bits per weight)\n",
        "#-------------------------------------------------------------------\n",
        "outWx=bp.copy()\n",
        "Qout=-1+pow(2,nb_out-1)\n",
        "# Fixed point quantization in output dense layer \n",
        "if (nb_out >0) :\n",
        "    O=np.max(np.abs(outWx[0]))\n",
        "    outWx[last_layer-2]=np.round(outWx[last_layer-2]*(1/O)*Qout)\n",
        "    outWx[last_layer-1]=np.round(outWx[last_layer-1]*(1/O)*Qout)\n",
        "    model.set_weights(outWx)\n",
        "    score = model.evaluate(x_test, y_test, verbose=0)\n",
        "    best_acc=score[1]\n",
        "    gama=np.max(np.abs(outWx[last_layer-2]))\n",
        "    nbits=np.ceil(np.log2(gama))+1 # 1= Sign bit \n",
        "    print('Output layer weights quantized with:', nbits, 'bits')\n",
        "    print('Quantified accuracy is:', best_acc*100,'%')\n",
        "else: \n",
        "    model.set_weights(outWx)\n",
        "    score = model.evaluate(x_test, y_test, verbose=0)\n",
        "    best_acc=score[1]\n",
        "    print('Output layer weights in float32')\n",
        "    print('Accuracy is:', best_acc*100,'%')\n",
        "outWx=model.get_weights() # the resulting model with fixed point weights"
      ],
      "execution_count": null,
      "outputs": [
        {
          "output_type": "stream",
          "text": [
            "Output layer weights quantized with: 9.0 bits\n",
            "Quantified accuracy is: 100.0 %\n"
          ],
          "name": "stdout"
        }
      ]
    },
    {
      "cell_type": "markdown",
      "metadata": {
        "id": "AoD8qXuLXAbm"
      },
      "source": [
        "Auxiliary: Investigates the values of weights on different layers (level=0,...) "
      ]
    },
    {
      "cell_type": "code",
      "metadata": {
        "colab": {
          "base_uri": "https://localhost:8080/"
        },
        "id": "00MteB6N9_2X",
        "outputId": "86638468-bce4-46a6-c25b-5ff8215356c0"
      },
      "source": [
        "level=last_layer-2\n",
        "print(np.shape(outWx[level]))\n",
        "print('MAX: ', np.max(outWx[level][:]))\n",
        "print('MIN: ',np.min(outWx[level][:]))\n",
        "#np.histogram(outWx[level])"
      ],
      "execution_count": null,
      "outputs": [
        {
          "output_type": "stream",
          "text": [
            "(5120, 40)\n",
            "MAX:  130.0\n",
            "MIN:  -97.0\n"
          ],
          "name": "stdout"
        }
      ]
    },
    {
      "cell_type": "markdown",
      "metadata": {
        "id": "DO-F4BZdXSO-"
      },
      "source": [
        "#Cell 12 Save the model in .h5 format "
      ]
    },
    {
      "cell_type": "code",
      "metadata": {
        "colab": {
          "base_uri": "https://localhost:8080/",
          "height": 754
        },
        "id": "cT9sjsn815KE",
        "outputId": "fd3a0861-d7e2-4e05-fb7b-13340ee090d0"
      },
      "source": [
        "# CELL 12 - SAVE THE MODEL \n",
        "#--------------------------------------\n",
        "# SAVING and visualising model \n",
        "#-----------------------------------------------------------\n",
        "nume_dorit='lb_cnn_orl_100_00'  # Desired name for the file \n",
        "model.save(nume_dorit+'.h5')  \n",
        "#tf.keras.models.save_model(model,'tmp.h5')\n",
        "from keras.utils.vis_utils import plot_model\n",
        "plot_model(model, to_file=nume_dorit+'.png', show_shapes=True, show_layer_names=True, dpi=96)"
      ],
      "execution_count": null,
      "outputs": [
        {
          "output_type": "execute_result",
          "data": {
            "image/png": "[encoded data removed]",
            "text/plain": [
              "<IPython.core.display.Image object>"
            ]
          },
          "metadata": {
            "tags": []
          },
          "execution_count": 72
        }
      ]
    }
  ]
}