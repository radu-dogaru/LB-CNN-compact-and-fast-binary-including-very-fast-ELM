{
  "nbformat": 4,
  "nbformat_minor": 0,
  "metadata": {
    "kernelspec": {
      "language": "python",
      "display_name": "Python 3",
      "name": "python3"
    },
    "language_info": {
      "name": "python",
      "version": "3.7.10",
      "mimetype": "text/x-python",
      "codemirror_mode": {
        "name": "ipython",
        "version": 3
      },
      "pygments_lexer": "ipython3",
      "nbconvert_exporter": "python",
      "file_extension": ".py"
    },
    "colab": {
      "name": "lb-cnn-kaggle-oct2021 (1).ipynb",
      "provenance": []
    },
    "accelerator": "GPU"
  },
  "cells": [
    {
      "cell_type": "markdown",
      "metadata": {
        "id": "3lhvX20tRAuh"
      },
      "source": [
        "Code in support for paper:\n",
        "\n",
        "-----\n",
        "Radu Dogaru, Ioana Dogaru, \"LB-CNN: An Open Source Framework for Fast Training of Light Binary Convolutional Neural Networks using Chainer and Cupy\",\n",
        "\n",
        "https://arxiv.org/ftp/arxiv/papers/2106/2106.15350.pdf \n",
        "\n",
        "Allows to optimize / train a binary convolutional compact NL-CNN model. \n",
        "------\n",
        "\n",
        "Copyright Radu & Ioana DOGARU, May 2021  \n"
      ]
    },
    {
      "cell_type": "markdown",
      "metadata": {
        "id": "l41q787JR0io"
      },
      "source": [
        "#Cell 0 - reads the available GPU "
      ]
    },
    {
      "cell_type": "code",
      "metadata": {
        "id": "HG-4kcmhDVj1",
        "execution": {
          "iopub.status.busy": "2021-10-27T12:12:53.568900Z",
          "iopub.execute_input": "2021-10-27T12:12:53.569317Z",
          "iopub.status.idle": "2021-10-27T12:12:54.285052Z",
          "shell.execute_reply.started": "2021-10-27T12:12:53.569232Z",
          "shell.execute_reply": "2021-10-27T12:12:54.284154Z"
        },
        "trusted": true,
        "colab": {
          "base_uri": "https://localhost:8080/"
        },
        "outputId": "79a651e9-ff4a-4159-e947-386411ac11ce"
      },
      "source": [
        "# CELL 0 - DETAILS ABOUT THE AVAILABLE GPU \n",
        "!nvidia-smi"
      ],
      "execution_count": 1,
      "outputs": [
        {
          "output_type": "stream",
          "name": "stdout",
          "text": [
            "Thu Oct 28 07:12:52 2021       \n",
            "+-----------------------------------------------------------------------------+\n",
            "| NVIDIA-SMI 495.29.05    Driver Version: 460.32.03    CUDA Version: 11.2     |\n",
            "|-------------------------------+----------------------+----------------------+\n",
            "| GPU  Name        Persistence-M| Bus-Id        Disp.A | Volatile Uncorr. ECC |\n",
            "| Fan  Temp  Perf  Pwr:Usage/Cap|         Memory-Usage | GPU-Util  Compute M. |\n",
            "|                               |                      |               MIG M. |\n",
            "|===============================+======================+======================|\n",
            "|   0  Tesla K80           Off  | 00000000:00:04.0 Off |                    0 |\n",
            "| N/A   71C    P8    34W / 149W |      0MiB / 11441MiB |      0%      Default |\n",
            "|                               |                      |                  N/A |\n",
            "+-------------------------------+----------------------+----------------------+\n",
            "                                                                               \n",
            "+-----------------------------------------------------------------------------+\n",
            "| Processes:                                                                  |\n",
            "|  GPU   GI   CI        PID   Type   Process name                  GPU Memory |\n",
            "|        ID   ID                                                   Usage      |\n",
            "|=============================================================================|\n",
            "|  No running processes found                                                 |\n",
            "+-----------------------------------------------------------------------------+\n"
          ]
        }
      ]
    },
    {
      "cell_type": "code",
      "metadata": {
        "id": "ARvueV3l2PCF",
        "execution": {
          "iopub.status.busy": "2021-10-27T12:13:02.150583Z",
          "iopub.execute_input": "2021-10-27T12:13:02.151136Z",
          "iopub.status.idle": "2021-10-27T12:13:15.287623Z",
          "shell.execute_reply.started": "2021-10-27T12:13:02.151100Z",
          "shell.execute_reply": "2021-10-27T12:13:15.286713Z"
        },
        "trusted": true,
        "colab": {
          "base_uri": "https://localhost:8080/"
        },
        "outputId": "267ddb61-fdf9-4796-c3a4-d44da8b152d2"
      },
      "source": [
        "# Run this cell if CHAINER / CUPY are not installed on your platform \n",
        "# PLEASE CHECK THE ACTUAL SITUATION (Nvidia driver -- vs. installed CUPY )\n",
        "# And install chainer version supporting it (chainer 7.8.0 may give some errors )\n",
        "#!pip install 'cupy-cuda101>=7.7.0,<8.0.0'  (it is already installed )\n",
        "!pip install chainer"
      ],
      "execution_count": 2,
      "outputs": [
        {
          "output_type": "stream",
          "name": "stdout",
          "text": [
            "Collecting chainer\n",
            "  Downloading chainer-7.8.0.tar.gz (1.0 MB)\n",
            "\u001b[?25l\r\u001b[K     |▎                               | 10 kB 23.0 MB/s eta 0:00:01\r\u001b[K     |▋                               | 20 kB 10.4 MB/s eta 0:00:01\r\u001b[K     |█                               | 30 kB 8.8 MB/s eta 0:00:01\r\u001b[K     |█▎                              | 40 kB 8.0 MB/s eta 0:00:01\r\u001b[K     |█▋                              | 51 kB 4.1 MB/s eta 0:00:01\r\u001b[K     |█▉                              | 61 kB 4.4 MB/s eta 0:00:01\r\u001b[K     |██▏                             | 71 kB 4.6 MB/s eta 0:00:01\r\u001b[K     |██▌                             | 81 kB 5.2 MB/s eta 0:00:01\r\u001b[K     |██▉                             | 92 kB 5.3 MB/s eta 0:00:01\r\u001b[K     |███▏                            | 102 kB 4.3 MB/s eta 0:00:01\r\u001b[K     |███▌                            | 112 kB 4.3 MB/s eta 0:00:01\r\u001b[K     |███▊                            | 122 kB 4.3 MB/s eta 0:00:01\r\u001b[K     |████                            | 133 kB 4.3 MB/s eta 0:00:01\r\u001b[K     |████▍                           | 143 kB 4.3 MB/s eta 0:00:01\r\u001b[K     |████▊                           | 153 kB 4.3 MB/s eta 0:00:01\r\u001b[K     |█████                           | 163 kB 4.3 MB/s eta 0:00:01\r\u001b[K     |█████▍                          | 174 kB 4.3 MB/s eta 0:00:01\r\u001b[K     |█████▋                          | 184 kB 4.3 MB/s eta 0:00:01\r\u001b[K     |██████                          | 194 kB 4.3 MB/s eta 0:00:01\r\u001b[K     |██████▎                         | 204 kB 4.3 MB/s eta 0:00:01\r\u001b[K     |██████▋                         | 215 kB 4.3 MB/s eta 0:00:01\r\u001b[K     |███████                         | 225 kB 4.3 MB/s eta 0:00:01\r\u001b[K     |███████▏                        | 235 kB 4.3 MB/s eta 0:00:01\r\u001b[K     |███████▌                        | 245 kB 4.3 MB/s eta 0:00:01\r\u001b[K     |███████▉                        | 256 kB 4.3 MB/s eta 0:00:01\r\u001b[K     |████████▏                       | 266 kB 4.3 MB/s eta 0:00:01\r\u001b[K     |████████▌                       | 276 kB 4.3 MB/s eta 0:00:01\r\u001b[K     |████████▉                       | 286 kB 4.3 MB/s eta 0:00:01\r\u001b[K     |█████████                       | 296 kB 4.3 MB/s eta 0:00:01\r\u001b[K     |█████████▍                      | 307 kB 4.3 MB/s eta 0:00:01\r\u001b[K     |█████████▊                      | 317 kB 4.3 MB/s eta 0:00:01\r\u001b[K     |██████████                      | 327 kB 4.3 MB/s eta 0:00:01\r\u001b[K     |██████████▍                     | 337 kB 4.3 MB/s eta 0:00:01\r\u001b[K     |██████████▊                     | 348 kB 4.3 MB/s eta 0:00:01\r\u001b[K     |███████████                     | 358 kB 4.3 MB/s eta 0:00:01\r\u001b[K     |███████████▎                    | 368 kB 4.3 MB/s eta 0:00:01\r\u001b[K     |███████████▋                    | 378 kB 4.3 MB/s eta 0:00:01\r\u001b[K     |████████████                    | 389 kB 4.3 MB/s eta 0:00:01\r\u001b[K     |████████████▎                   | 399 kB 4.3 MB/s eta 0:00:01\r\u001b[K     |████████████▋                   | 409 kB 4.3 MB/s eta 0:00:01\r\u001b[K     |████████████▉                   | 419 kB 4.3 MB/s eta 0:00:01\r\u001b[K     |█████████████▏                  | 430 kB 4.3 MB/s eta 0:00:01\r\u001b[K     |█████████████▌                  | 440 kB 4.3 MB/s eta 0:00:01\r\u001b[K     |█████████████▉                  | 450 kB 4.3 MB/s eta 0:00:01\r\u001b[K     |██████████████▏                 | 460 kB 4.3 MB/s eta 0:00:01\r\u001b[K     |██████████████▍                 | 471 kB 4.3 MB/s eta 0:00:01\r\u001b[K     |██████████████▊                 | 481 kB 4.3 MB/s eta 0:00:01\r\u001b[K     |███████████████                 | 491 kB 4.3 MB/s eta 0:00:01\r\u001b[K     |███████████████▍                | 501 kB 4.3 MB/s eta 0:00:01\r\u001b[K     |███████████████▊                | 512 kB 4.3 MB/s eta 0:00:01\r\u001b[K     |████████████████                | 522 kB 4.3 MB/s eta 0:00:01\r\u001b[K     |████████████████▎               | 532 kB 4.3 MB/s eta 0:00:01\r\u001b[K     |████████████████▋               | 542 kB 4.3 MB/s eta 0:00:01\r\u001b[K     |█████████████████               | 552 kB 4.3 MB/s eta 0:00:01\r\u001b[K     |█████████████████▎              | 563 kB 4.3 MB/s eta 0:00:01\r\u001b[K     |█████████████████▋              | 573 kB 4.3 MB/s eta 0:00:01\r\u001b[K     |██████████████████              | 583 kB 4.3 MB/s eta 0:00:01\r\u001b[K     |██████████████████▏             | 593 kB 4.3 MB/s eta 0:00:01\r\u001b[K     |██████████████████▌             | 604 kB 4.3 MB/s eta 0:00:01\r\u001b[K     |██████████████████▉             | 614 kB 4.3 MB/s eta 0:00:01\r\u001b[K     |███████████████████▏            | 624 kB 4.3 MB/s eta 0:00:01\r\u001b[K     |███████████████████▌            | 634 kB 4.3 MB/s eta 0:00:01\r\u001b[K     |███████████████████▉            | 645 kB 4.3 MB/s eta 0:00:01\r\u001b[K     |████████████████████            | 655 kB 4.3 MB/s eta 0:00:01\r\u001b[K     |████████████████████▍           | 665 kB 4.3 MB/s eta 0:00:01\r\u001b[K     |████████████████████▊           | 675 kB 4.3 MB/s eta 0:00:01\r\u001b[K     |█████████████████████           | 686 kB 4.3 MB/s eta 0:00:01\r\u001b[K     |█████████████████████▍          | 696 kB 4.3 MB/s eta 0:00:01\r\u001b[K     |█████████████████████▋          | 706 kB 4.3 MB/s eta 0:00:01\r\u001b[K     |██████████████████████          | 716 kB 4.3 MB/s eta 0:00:01\r\u001b[K     |██████████████████████▎         | 727 kB 4.3 MB/s eta 0:00:01\r\u001b[K     |██████████████████████▋         | 737 kB 4.3 MB/s eta 0:00:01\r\u001b[K     |███████████████████████         | 747 kB 4.3 MB/s eta 0:00:01\r\u001b[K     |███████████████████████▎        | 757 kB 4.3 MB/s eta 0:00:01\r\u001b[K     |███████████████████████▌        | 768 kB 4.3 MB/s eta 0:00:01\r\u001b[K     |███████████████████████▉        | 778 kB 4.3 MB/s eta 0:00:01\r\u001b[K     |████████████████████████▏       | 788 kB 4.3 MB/s eta 0:00:01\r\u001b[K     |████████████████████████▌       | 798 kB 4.3 MB/s eta 0:00:01\r\u001b[K     |████████████████████████▉       | 808 kB 4.3 MB/s eta 0:00:01\r\u001b[K     |█████████████████████████▏      | 819 kB 4.3 MB/s eta 0:00:01\r\u001b[K     |█████████████████████████▍      | 829 kB 4.3 MB/s eta 0:00:01\r\u001b[K     |█████████████████████████▊      | 839 kB 4.3 MB/s eta 0:00:01\r\u001b[K     |██████████████████████████      | 849 kB 4.3 MB/s eta 0:00:01\r\u001b[K     |██████████████████████████▍     | 860 kB 4.3 MB/s eta 0:00:01\r\u001b[K     |██████████████████████████▊     | 870 kB 4.3 MB/s eta 0:00:01\r\u001b[K     |███████████████████████████     | 880 kB 4.3 MB/s eta 0:00:01\r\u001b[K     |███████████████████████████▎    | 890 kB 4.3 MB/s eta 0:00:01\r\u001b[K     |███████████████████████████▋    | 901 kB 4.3 MB/s eta 0:00:01\r\u001b[K     |████████████████████████████    | 911 kB 4.3 MB/s eta 0:00:01\r\u001b[K     |████████████████████████████▎   | 921 kB 4.3 MB/s eta 0:00:01\r\u001b[K     |████████████████████████████▋   | 931 kB 4.3 MB/s eta 0:00:01\r\u001b[K     |████████████████████████████▉   | 942 kB 4.3 MB/s eta 0:00:01\r\u001b[K     |█████████████████████████████▏  | 952 kB 4.3 MB/s eta 0:00:01\r\u001b[K     |█████████████████████████████▌  | 962 kB 4.3 MB/s eta 0:00:01\r\u001b[K     |█████████████████████████████▉  | 972 kB 4.3 MB/s eta 0:00:01\r\u001b[K     |██████████████████████████████▏ | 983 kB 4.3 MB/s eta 0:00:01\r\u001b[K     |██████████████████████████████▌ | 993 kB 4.3 MB/s eta 0:00:01\r\u001b[K     |██████████████████████████████▊ | 1.0 MB 4.3 MB/s eta 0:00:01\r\u001b[K     |███████████████████████████████ | 1.0 MB 4.3 MB/s eta 0:00:01\r\u001b[K     |███████████████████████████████▍| 1.0 MB 4.3 MB/s eta 0:00:01\r\u001b[K     |███████████████████████████████▊| 1.0 MB 4.3 MB/s eta 0:00:01\r\u001b[K     |████████████████████████████████| 1.0 MB 4.3 MB/s \n",
            "\u001b[?25hRequirement already satisfied: setuptools in /usr/local/lib/python3.7/dist-packages (from chainer) (57.4.0)\n",
            "Requirement already satisfied: typing_extensions in /usr/local/lib/python3.7/dist-packages (from chainer) (3.7.4.3)\n",
            "Requirement already satisfied: filelock in /usr/local/lib/python3.7/dist-packages (from chainer) (3.3.0)\n",
            "Requirement already satisfied: numpy>=1.9.0 in /usr/local/lib/python3.7/dist-packages (from chainer) (1.19.5)\n",
            "Requirement already satisfied: protobuf>=3.0.0 in /usr/local/lib/python3.7/dist-packages (from chainer) (3.17.3)\n",
            "Requirement already satisfied: six>=1.9.0 in /usr/local/lib/python3.7/dist-packages (from chainer) (1.15.0)\n",
            "Building wheels for collected packages: chainer\n",
            "  Building wheel for chainer (setup.py) ... \u001b[?25l\u001b[?25hdone\n",
            "  Created wheel for chainer: filename=chainer-7.8.0-py3-none-any.whl size=967734 sha256=73d2713e82434ad0a4f8aeb5901a1ab67be3d4cdf2af4fca3ab487b0dd9dfa9a\n",
            "  Stored in directory: /root/.cache/pip/wheels/8d/45/4c/c961846626d4db2511e4acbd5056eefb2aeedcec8208a3ca42\n",
            "Successfully built chainer\n",
            "Installing collected packages: chainer\n",
            "Successfully installed chainer-7.8.0\n"
          ]
        }
      ]
    },
    {
      "cell_type": "markdown",
      "metadata": {
        "id": "oU1D5cstSLSB"
      },
      "source": [
        "# Cell 1 a  (Reads the ORL dataset)"
      ]
    },
    {
      "cell_type": "code",
      "metadata": {
        "id": "1aMWaQ8zPvMz",
        "trusted": true,
        "colab": {
          "base_uri": "https://localhost:8080/"
        },
        "outputId": "89fd7696-f531-4596-f62d-f1134290735f"
      },
      "source": [
        "# CELL 1a - loading a specific dataset \n",
        "# ---- CELLS of type 1a can be added for specific datasets \n",
        "\n",
        "# Here datasets from SKLEARN - here the ORL Face recognition \n",
        "# with possibility to select the fraction for training \n",
        "#--------------------------------------------------------\n",
        "k1=250     # Training samples \n",
        "toate=400  # All images \n",
        "#---------------------------------------------------------\n",
        "import tensorflow as tf\n",
        "from sklearn import datasets as dat\n",
        "import numpy as np\n",
        "e=dat.fetch_olivetti_faces(data_home=None, shuffle=True, random_state=0, download_if_missing=True)\n",
        "\n",
        "\n",
        "x_train=e.images[0:k1,:,:]\n",
        "x_test=e.images[k1:toate,:,:]\n",
        "y_train=e.target[0:k1]\n",
        "y_test=e.target[k1:toate]\n",
        "\n",
        "if (np.ndim(x_train)==3):   # E.g.  MNIST or F-MNIST  \n",
        "    x_train=np.reshape(x_train, [np.shape(x_train)[0],np.shape(x_train)[1],np.shape(x_train)[2], 1]) \n",
        "    x_test=np.reshape(x_test, [np.shape(x_test)[0],np.shape(x_test)[1],np.shape(x_test)[2], 1] ) \n",
        "# place a  1 in the end to keep it compatible with kernel in conv2d \n",
        "\n",
        "x_train = x_train.astype('float32')\n",
        "x_test = x_test.astype('float32')\n",
        "\n",
        "y_train=np.reshape(y_train, [np.shape(y_train)[0], 1]) \n",
        "y_test=np.reshape(y_test, [np.shape(y_test)[0], 1] ) \n",
        "num_classes=np.max(y_train)+1\n",
        "\n",
        "y_train_nc=y_train  #-----------------------------------------\n",
        "y_test_nc=y_test  # keep non-categorical version for ELM training \n",
        "\n",
        "y_train = tf.keras.utils.to_categorical(y_train, num_classes)\n",
        "y_test = tf.keras.utils.to_categorical(y_test, num_classes)\n",
        "inp_chan=np.shape(x_train)[3]\n",
        "num_inputs = np.shape(x_test)[1]\n",
        "input_shape=np.shape(x_train)[1:4]"
      ],
      "execution_count": 6,
      "outputs": [
        {
          "output_type": "stream",
          "name": "stdout",
          "text": [
            "downloading Olivetti faces from https://ndownloader.figshare.com/files/5976027 to /root/scikit_learn_data\n"
          ]
        }
      ]
    },
    {
      "cell_type": "markdown",
      "metadata": {
        "id": "a-Ielv20SR8k"
      },
      "source": [
        "# Cell 1 b  (Reads other, medium-sized datasets: MNIST, CIFAR, F-MNIST )\n",
        "When using the fast optimizer (cells 2-6) use reduced=10000 here to avoid GPU-RAM overflow "
      ]
    },
    {
      "cell_type": "code",
      "metadata": {
        "id": "yFFIr2Je52eN",
        "execution": {
          "iopub.status.busy": "2021-10-27T12:13:21.062173Z",
          "iopub.execute_input": "2021-10-27T12:13:21.063101Z",
          "iopub.status.idle": "2021-10-27T12:13:26.442406Z",
          "shell.execute_reply.started": "2021-10-27T12:13:21.063058Z",
          "shell.execute_reply": "2021-10-27T12:13:26.441708Z"
        },
        "trusted": true,
        "colab": {
          "base_uri": "https://localhost:8080/"
        },
        "outputId": "6538bbf1-4e2c-45d8-f03d-8887071dc27f"
      },
      "source": [
        "# CELL 1B \n",
        "# Datasets from Keras - MNIST, F_MNIST, CIFAR \n",
        "#---------------------------------------------------\n",
        "# In the kernel optimization phase a small number of training samples must be considered. \n",
        "# After optimization re-run the cell to load the entire data set  \n",
        "#------------------------------------------------------------------------\n",
        "dataset='mnist' # mnist or f-mnist or cifar10 \n",
        "reduced=10000  # Use as little as possible to accomodate the available GPU RAM \n",
        "#------------------------------------------------------------------------------------\n",
        "\n",
        "import numpy as np\n",
        "import tensorflow as tf\n",
        "\n",
        " \n",
        "dformat='channels_last'\n",
        "\n",
        "from keras.datasets import mnist, cifar10, cifar100, fashion_mnist\n",
        "\n",
        "if dataset=='mnist':\n",
        "    (x_train, y_train), (x_test, y_test) = mnist.load_data() # incarca date nescalate \n",
        "elif  dataset=='cifar10': \n",
        "    (x_train, y_train), (x_test, y_test) = cifar10.load_data() # incarca date nescalate \n",
        "elif  dataset=='cifar100': \n",
        "    (x_train, y_train), (x_test, y_test) = cifar100.load_data() # incarca date nescalate \n",
        "elif dataset=='f-mnist':\n",
        "    (x_train, y_train), (x_test, y_test) =  fashion_mnist.load_data()\n",
        "\n",
        "if (np.ndim(x_train)==3):   # E.g.  MNIST or F-MNIST  \n",
        "    x_train=np.reshape(x_train, [np.shape(x_train)[0],np.shape(x_train)[1],np.shape(x_train)[2], 1]) \n",
        "    x_test=np.reshape(x_test, [np.shape(x_test)[0],np.shape(x_test)[1],np.shape(x_test)[2], 1] ) \n",
        "# place a  1 in the end to keep it compatible with kernel in conv2d \n",
        "# scaling in ([0,1])\n",
        "x_train = x_train.astype('float32')\n",
        "x_test = x_test.astype('float32')\n",
        "x_train /= 255\n",
        "x_test /=255 \n",
        "inp_chan=np.shape(x_train)[3] \n",
        "print('Number of input channels in image:', inp_chan)\n",
        "num_classes=np.max(y_train)+1\n",
        "num_inputs = np.shape(x_test)[1]\n",
        "input_shape=np.shape(x_train)[1:4]\n",
        "\n",
        "y_train_nc=y_train  #-----------------------------------------\n",
        "y_test_nc=y_test  # Keep non-categorical version for ELM training  \n",
        "\n",
        "\n",
        "if reduced>0:\n",
        "    Ntr1=reduced\n",
        "    x_train=x_train[0:Ntr1,:,:,:]\n",
        "    y_train=y_train[0:Ntr1]\n",
        "    y_train_nc=y_train\n",
        "y_train = tf.keras.utils.to_categorical(y_train, num_classes)\n",
        "y_test = tf.keras.utils.to_categorical(y_test, num_classes)\n",
        "\n",
        "#----------------------------------------------------------------------------\n"
      ],
      "execution_count": 33,
      "outputs": [
        {
          "output_type": "stream",
          "name": "stdout",
          "text": [
            "Number of input channels in image: 1\n"
          ]
        }
      ]
    },
    {
      "cell_type": "markdown",
      "metadata": {
        "id": "8iJqFwNVSr0B"
      },
      "source": [
        "# Cell 2  ( Moves data on GPU for fast optimization and training  ). \n",
        "Run only after loading a new dataset and if Cupy/ Chainer optimizer is used\n",
        "\n",
        "(some warnings may occur - they can be ignored) "
      ]
    },
    {
      "cell_type": "code",
      "metadata": {
        "id": "5rWrq5Cf3WIs",
        "execution": {
          "iopub.status.busy": "2021-10-27T12:13:32.721910Z",
          "iopub.execute_input": "2021-10-27T12:13:32.722418Z",
          "iopub.status.idle": "2021-10-27T12:13:39.361511Z",
          "shell.execute_reply.started": "2021-10-27T12:13:32.722378Z",
          "shell.execute_reply": "2021-10-27T12:13:39.360041Z"
        },
        "trusted": true,
        "colab": {
          "base_uri": "https://localhost:8080/"
        },
        "outputId": "547bc813-3546-4fd0-941f-faf1a0f0f05c"
      },
      "source": [
        "# CELL 2 - Must run when for CUPY/CHAINER implementation \n",
        "#---------  converts datasest into Chainer format and puts them on GPU \n",
        "\n",
        "import time as ti \n",
        "import cupy as cp\n",
        "import chainer \n",
        "from chainer.functions import convolution_2d, depthwise_convolution_2d, relu, flatten, max_pooling_2d, reshape\n",
        "chainer.configuration.config.cudnn_deterministic=True  \n",
        "chainer.using_config('autotune',True)\n",
        "\n",
        "xc_train=np.moveaxis(x_train,3,1)\n",
        "xc_test=np.moveaxis(x_test,3,1)\n",
        "# move on GPU \n",
        "xc_train_g=cp.asarray(xc_train)\n",
        "xc_test_g=cp.asarray(xc_test)\n",
        "\n",
        "c_in=np.size(xc_train,1)\n",
        "print('===============  input data =========================================')\n",
        "print('Channels in input image: ',c_in)\n",
        "print('Size of raw input samples:', np.size(xc_train,2),'x',np.size(xc_train,3))\n",
        "print('Number of training samples: ',np.size(xc_train,0))\n",
        "\n"
      ],
      "execution_count": 4,
      "outputs": [
        {
          "output_type": "stream",
          "name": "stderr",
          "text": [
            "/usr/local/lib/python3.7/dist-packages/chainer/_environment_check.py:75: UserWarning: \n",
            "--------------------------------------------------------------------------------\n",
            "CuPy (cupy-cuda111) version 9.4.0 may not be compatible with this version of Chainer.\n",
            "Please consider installing the supported version by running:\n",
            "  $ pip install 'cupy-cuda111>=7.7.0,<8.0.0'\n",
            "\n",
            "See the following page for more details:\n",
            "  https://docs.cupy.dev/en/latest/install.html\n",
            "--------------------------------------------------------------------------------\n",
            "\n",
            "  requirement=requirement, help=help))\n"
          ]
        },
        {
          "output_type": "stream",
          "name": "stdout",
          "text": [
            "===============  input data =========================================\n",
            "Channels in input image:  1\n",
            "Size of raw input samples: 28 x 28\n",
            "Number of training samples:  10000\n"
          ]
        }
      ]
    },
    {
      "cell_type": "code",
      "metadata": {
        "trusted": true,
        "colab": {
          "base_uri": "https://localhost:8080/"
        },
        "id": "ev3RpFtWvQJY",
        "outputId": "d58b7e51-3cf3-4cd1-a8dc-9309e87380df"
      },
      "source": [
        "cp.__version__\n",
        "chainer.backends.cuda.available"
      ],
      "execution_count": 5,
      "outputs": [
        {
          "output_type": "execute_result",
          "data": {
            "text/plain": [
              "True"
            ]
          },
          "metadata": {},
          "execution_count": 5
        }
      ]
    },
    {
      "cell_type": "markdown",
      "metadata": {
        "id": "hI9-eXQNTKm5"
      },
      "source": [
        "# Cell 4  (Relevant functions for the Chianer/Cupy fast optimizer)\n",
        "Run only once. "
      ]
    },
    {
      "cell_type": "code",
      "metadata": {
        "id": "KjcTKtYN_GHP",
        "execution": {
          "iopub.status.busy": "2021-10-27T12:15:48.925312Z",
          "iopub.execute_input": "2021-10-27T12:15:48.925854Z",
          "iopub.status.idle": "2021-10-27T12:15:48.959828Z",
          "shell.execute_reply.started": "2021-10-27T12:15:48.925814Z",
          "shell.execute_reply": "2021-10-27T12:15:48.959104Z"
        },
        "trusted": true
      },
      "source": [
        "# CELL 4 - defines functions for the BNL-CNN with CUPY ELM training \n",
        "#---------------------------------------------------------------------\n",
        "#  Useful functions and imports \n",
        "#------------------------------------------------\n",
        "#  Next:  CUPY - ELM (very fast training when data is already on GPU) \n",
        "# ================================================================\n",
        "\n",
        "\n",
        "def hidden_nonlin(hid_in, tip):\n",
        "# implementation of the hidden layer \n",
        "# additional nonlinearitys may be added \n",
        "    if tip==0: \n",
        "        # sigmoid \n",
        "        H=cp.tanh(hid_in)        \n",
        "    elif tip==1:\n",
        "        # linsat \n",
        "        H=cp.abs(1+hid_in)-cp.abs(1-hid_in)\n",
        "    elif tip==2:\n",
        "        # ReLU\n",
        "        H=cp.abs(hid_in)+hid_in\n",
        "    elif tip==3:\n",
        "        #  very well suited for emmbeded systems \n",
        "        H=cp.abs(hid_in)\n",
        "    elif tip==4:\n",
        "        H=cp.sqrt(hid_in*hid_in+1)\n",
        "        # multiquadric \n",
        "    elif tip==5:\n",
        "        H=cp.sign(hid_in)\n",
        "        # multiquadric\n",
        "    return H\n",
        "        \n",
        "# ELM training \n",
        "def elmTrain_optim(X, Y, h_Neurons, C , tip):\n",
        "# Training phase - floating point precision (no quantization)\n",
        "# X - Samples (feature vectors) Y - Labels\n",
        "      Ntr = cp.size(X,1)\n",
        "      in_Neurons = cp.size(X,0)\n",
        "      classes = cp.size(Y,0)\n",
        "      \n",
        "      #   Generate inW layer  \n",
        "      if h_Neurons>0:\n",
        "          rnd = cp.random.RandomState()\n",
        "          inW=-1+2*rnd.rand(h_Neurons, in_Neurons).astype('float32')\n",
        "          \n",
        "          #inW=cp.dot(inW,CO)\n",
        "          #  Compute hidden layer \n",
        "          hid_inp = cp.dot(inW, X)\n",
        "          H=hidden_nonlin(hid_inp,tip)\n",
        "      elif h_Neurons==0:\n",
        "          inW=cp.asarray([])\n",
        "          h_Neurons=in_Neurons\n",
        "          H = X\n",
        "      \n",
        "      # Moore - Penrose computation of output weights (outW) layer \n",
        "      if h_Neurons<Ntr:\n",
        "          print('LLL - Less neurons than training samples')\n",
        "          outW = cp.linalg.solve(cp.eye(h_Neurons)/C+cp.dot(H,H.T), cp.dot(H,Y.T))     \n",
        "      else:\n",
        "          print('MMM - More neurons than training samples')\n",
        "          outW = cp.dot(H,cp.linalg.solve(cp.eye(Ntr)/C+cp.dot(H.T,H), Y.T))\n",
        "      return inW, outW \n",
        "\n",
        "\n",
        "# implements the ELM training procedure with weight quantization       \n",
        "def elmTrain_fix( X, Y, h_Neurons, C , tip, ni):\n",
        "# Training phase - emulated fixed point precision (ni bit quantization)\n",
        "# X - Samples (feature vectors) Y - Labels\n",
        "# ni - number of bits to quantize the inW\n",
        "      Ntr = cp.size(X,1)\n",
        "      in_Neurons = cp.size(X,0)\n",
        "      classes = cp.size(Y,0)\n",
        "    \n",
        "      #   Generate inW layer  \n",
        "      if h_Neurons>0:\n",
        "          rnd = cp.random.RandomState()\n",
        "          inW=-1+2*rnd.rand(h_Neurons, in_Neurons).astype('float32')\n",
        "          #inW=rnd.randn(nHiddenNeurons, nInputNeurons).astype('float32')\n",
        "          Qi=-1+pow(2,ni-1) \n",
        "          inW=cp.round_(inW*Qi)\n",
        "          #  Compute hidden layer \n",
        "          hid_inp = cp.dot(inW, X)\n",
        "          H=hidden_nonlin(hid_inp,tip)\n",
        "      elif h_Neurons==0:\n",
        "          inW=cp.asarray([])\n",
        "          h_Neurons=in_Neurons\n",
        "          H = X     \n",
        "      # Moore - Penrose computation of output weights (outW) layer \n",
        "      if h_Neurons<Ntr:\n",
        "          print('LLL - Less neurons than training samples')\n",
        "          outW = cp.linalg.solve(cp.eye(h_Neurons)/C+cp.dot(H,H.T), cp.dot(H,Y.T))     \n",
        "      else:\n",
        "          print('MMM - More neurons than training samples')\n",
        "          outW = cp.dot(H,cp.linalg.solve(cp.eye(Ntr)/C+cp.dot(H.T,H), Y.T))\n",
        "     \n",
        "      return inW, outW \n",
        "      \n",
        "# ELM predict  (using a model defined by: [inW, outW, tip])\n",
        "def elmPredict_optim( X, inW, outW, tip, ts_Labels):\n",
        "# implements the ELM predictor given the model as arguments \n",
        "# model is given by inW, outW and tip \n",
        "# returns a score matrix (winner class has the maximal score)\n",
        "#------------ 28 mai 2021 - computes accuracies and predicted labels \n",
        "\n",
        "\n",
        "      if cp.size(inW)==0: \n",
        "        H=X\n",
        "        \n",
        "      else: \n",
        "        hid_in=cp.dot(inW, X)\n",
        "        H=hidden_nonlin(hid_in,tip)\n",
        "      #print('aspect:',np.shape(H))\n",
        "      score = np.transpose(cp.dot(cp.transpose(H),outW))\n",
        "      pred=1+cp.argmax(score, axis=0) # predicted labels (min =1)\n",
        "      # Given the ts_Labels one may compute accuracy \n",
        "      correct=cp.count_nonzero(pred==ts_Labels)\n",
        "      Ns=np.shape(cp.asnumpy(ts_Labels))[1]\n",
        "      acc=correct/Ns\n",
        "      \n",
        "      return pred, acc \n",
        "        \n",
        "# Binary kernles generator - supports the NL-CNN model with depthwise_convolution \n",
        "# \n",
        "\n",
        "def ker_gen_x(c_in,nf1,nf2,nf3, nl, convs):   # \n",
        "    kers=[]\n",
        "    ker=cp.sign(cp.random.rand(nf1, c_in, 3, 3).astype('float32')-0.5)\n",
        "    kers.append(ker)\n",
        "    if nl[0]>1:\n",
        "      for k in range(-1+nl[0]):\n",
        "        ker=cp.sign(cp.random.rand(1, c_in*nf1, 3, 3).astype('float32')-0.5)\n",
        "        kers.append(ker)\n",
        "\n",
        "\n",
        "    # --------- LAYER 2 ----------------------   \n",
        "    if convs>1: \n",
        "      ker=cp.sign(cp.random.rand(nf2, nf1*c_in, 3, 3).astype('float32')-0.5)\n",
        "      kers.append(ker)\n",
        "      if nl[1]>1:\n",
        "        for k in range(-1+nl[1]):\n",
        "          ker=cp.sign(cp.random.rand(1, c_in*nf1*nf2, 3, 3).astype('float32')-0.5)\n",
        "          kers.append(ker)\n",
        "  \n",
        "    # ---- LAYER 3 ----------------------\n",
        "    if convs>2:\n",
        "      ker=cp.sign(cp.random.rand(nf3, nf2*nf1*c_in, 3, 3).astype('float32')-0.5)\n",
        "      kers.append(ker)\n",
        "    return kers\n",
        "\n",
        "# Define the NL_CNN model with (binary) kernels previously generated or learned \n",
        "\n",
        "def my_model(inpdata, nl, convs, kers):  # Implements the nonlinear model NL-CNN \n",
        "    \n",
        "    str1=2 # Same strides on all layers \n",
        "    #print('Strat 1')\n",
        "    net=depthwise_convolution_2d(inpdata, kers[0], pad=1)\n",
        "    #print('Index: ',0)\n",
        "    if nl[0]>1:\n",
        "      for k in range(-1+nl[0]):\n",
        "        net=relu(net)\n",
        "        net=depthwise_convolution_2d(net, kers[k+1], pad=1)\n",
        "        #print('Index: ',k+1)\n",
        "    net=max_pooling_2d(net,ksize=4,stride=str1, pad=1, cover_all=True)\n",
        "    if convs>1: \n",
        "      #------------- second macro-layer \n",
        "      #print('Strat 2')\n",
        "      net=depthwise_convolution_2d(net, kers[nl[0]], pad=1)\n",
        "      #print('Index: ',nl[0])\n",
        "      if nl[1]>1:\n",
        "        for k in range(-1+nl[1]):\n",
        "          net=relu(net)\n",
        "          #print('Index: ',k+1+nl[0])\n",
        "          net=depthwise_convolution_2d(net, kers[k+1+nl[0]], pad=1)\n",
        "        \n",
        "    \n",
        "      net=max_pooling_2d(net,ksize=4,stride=str1, pad=1, cover_all=True)\n",
        "    if convs>2:\n",
        "      # ---------- 3'd macrolayer \n",
        "      #print('Strat 3')\n",
        "      #print('Index: ',nl[0]+nl[1])\n",
        "      net=depthwise_convolution_2d(net, kers[nl[0]+nl[1]], pad=1)\n",
        "      net=max_pooling_2d(net, ksize=4,stride=str1, pad=1, cover_all=True)\n",
        "    shp=np.shape(net)\n",
        "    # -- FLATTEN + ELM style input conversion \n",
        "    perm=(0,2,3,1)  # Permute for compatibility with TF/Keras models  \n",
        "    net=reshape(net.transpose(perm),(shp[0],shp[1]*shp[2]*shp[3]))\n",
        "    print(shp)\n",
        "    return net\n"
      ],
      "execution_count": 6,
      "outputs": []
    },
    {
      "cell_type": "markdown",
      "metadata": {
        "id": "yNz432kPTZ4G"
      },
      "source": [
        "# Cell 5  (Initialize the loop process in cell 6)\n",
        "Run when a new optimization loop (Running Cell 6 for several trials) starts"
      ]
    },
    {
      "cell_type": "code",
      "metadata": {
        "id": "64YkhAw7eqry",
        "execution": {
          "iopub.status.busy": "2021-10-27T12:23:39.771382Z",
          "iopub.execute_input": "2021-10-27T12:23:39.772017Z",
          "iopub.status.idle": "2021-10-27T12:23:39.778805Z",
          "shell.execute_reply.started": "2021-10-27T12:23:39.771976Z",
          "shell.execute_reply": "2021-10-27T12:23:39.778006Z"
        },
        "trusted": true
      },
      "source": [
        "# CELL 5 - Run only once before starting random binary kernel trials with CELL 6 \n",
        "#----------------------------------------------------\n",
        "# Run this cell at the beginning of the optimization process\n",
        "\n",
        "All=np.zeros(0)  # DO The next cell until the best performance (accuracy) is acceptable \n",
        "best_ac=0\n",
        "\n",
        "# Then run next cell as many trials are needed to improve performance \n"
      ],
      "execution_count": 7,
      "outputs": []
    },
    {
      "cell_type": "markdown",
      "metadata": {
        "id": "NMR1rJaeTuk6"
      },
      "source": [
        "# Cell 6 (Defines LB-CNN model optimzie and train the ELM output)\n",
        "Each running is a trial. Run cell 6 with **use_stored=0** as many times (trials) as needed to improve accuracy. \n",
        "\n",
        "When the accuracy is convenient run cell 6 again using **use_stored=1** "
      ]
    },
    {
      "cell_type": "code",
      "metadata": {
        "id": "6S--owNUHQqP",
        "execution": {
          "iopub.status.busy": "2021-10-27T12:24:39.499074Z",
          "iopub.execute_input": "2021-10-27T12:24:39.499576Z",
          "iopub.status.idle": "2021-10-27T12:24:40.700631Z",
          "shell.execute_reply.started": "2021-10-27T12:24:39.499537Z",
          "shell.execute_reply": "2021-10-27T12:24:40.699705Z"
        },
        "trusted": true,
        "colab": {
          "base_uri": "https://localhost:8080/"
        },
        "outputId": "057ad1b1-88d4-4313-9a6f-d6c0097d2704"
      },
      "source": [
        "# CELL 6 \n",
        "# -- Run as many trials as needed to improve the ELM0 accuracy \n",
        "# then put use_stored=1 and run again for best kernels (bk)\n",
        "\n",
        "# CUPY/CHAINER model with random kernels at each stage !\n",
        "# Run several times to improve the accuracy \n",
        "#--------------------------------------------------------------------------------------\n",
        "use_stored=1  # 0 = uses random kernles ; 1 - uses the bk (best solution found during the trials)\n",
        "conv_layers=2 # convolution layers - \n",
        "nf1=16; nf2=16; nf3=8 # filers in conv layers  \n",
        "# Here the filters for the depthwise model only \n",
        "NL=(1,1) # Nonlinearity for the NL-CNN model \n",
        "\n",
        "#----------- ELM setup ----------------------------------\n",
        "nr_neuroni=0 # 0 = ELM0 (with no hidden layer)\n",
        "C=0.0010  \n",
        "tip=3 # Neliniaritate strat ascuns (0-tanh, 1-linsat, 2-ReLu, 3- abs(), 4-multiquad, 5 sign() )  \n",
        "nb_in=2;  # 0 = float; >0 = nr. biti cuantizare ponderi strat intrare \n",
        "nb_out=8; # 0 = float; >0 = output layer fixed point quantization \n",
        "\n",
        "\n",
        "# GENERATE KERNLES (BINARY)\n",
        "if use_stored==0:\n",
        "  kers=ker_gen_x(c_in, nf1, nf2, nf3, NL, conv_layers)\n",
        "else: \n",
        "  kers=bk \n",
        "\n",
        "# ----------------------- IMPLEMENT CONV LAYERS ON TRAIN SET\n",
        "\n",
        "t1=ti.time()\n",
        "net=my_model(xc_train_g, NL, conv_layers, kers)\n",
        "\n",
        "# Conversion of data in ELM format  \n",
        "Samples_g=chainer.variable.as_array(net.T)\n",
        "Labels=np.reshape(y_train_nc+1,(1,np.shape(y_train_nc)[0]))\n",
        "Y=2*y_train.T-1\n",
        "t2=ti.time(); print('Train set convolution time:', t2-t1,' seconda')\n",
        "# ----------------------- IMPLEMENT CONV LAYERS ON TEST SET\n",
        "t1=ti.time()\n",
        "net=my_model(xc_test_g, NL, conv_layers, kers)\n",
        "\n",
        "# Conversie pe CP var NUMPY \n",
        "ts_Samples_g=chainer.variable.as_array(net.T)\n",
        "ts_Labels=np.reshape(y_test_nc+1,(1,np.shape(y_test_nc)[0]))\n",
        "t2=ti.time(); print('Test set convolution time', t2-t1,' seconds')\n",
        "\n",
        "clase=np.max(Labels); print('Classes: ',clase)\n",
        "out_conv=np.shape(net)[1]\n",
        "print('===============  convolved data =========================================')\n",
        "print('Size of the output, convolved layer (nout): ',out_conv)\n",
        "print('===============Now ELM training ===============================================')\n",
        "\n",
        "\n",
        "\n",
        "Labels_g=cp.asarray(Labels)\n",
        "Y_g=cp.asarray(Y)\n",
        "ts_Labels_g=cp.asarray(ts_Labels)\n",
        "\n",
        "#-------------------------------------------------------------------\n",
        "# ELM running  \n",
        "import time as ti \n",
        "\n",
        "#================= TRAIN ELM =====================================================\n",
        "t1 = ti.time()\n",
        "if nr_neuroni==0:\n",
        "    nb_in=0\n",
        "if nb_in>0:\n",
        "    inW, outW = elmTrain_fix(Samples_g, Y_g, nr_neuroni, C, tip, nb_in)\n",
        "else:\n",
        "    inW, outW = elmTrain_optim(Samples_g, Y_g, nr_neuroni, C, tip)\n",
        "trun = ti.time()-t1\n",
        "print(\" training time: %f seconds\" %trun)\n",
        "\n",
        "# ==============  Quantify the output layer ======================================\n",
        "Qout=-1+pow(2,nb_out-1)\n",
        "if nb_out>0:\n",
        "     O=cp.max(cp.abs(outW))\n",
        "     outW=cp.round_(outW*(1/O)*Qout)\n",
        "\n",
        "del Samples_g\n",
        "#====================== VALIDATION PHASE (+ Accuracy evaluation) =================\n",
        "t1 = ti.time()\n",
        "(pred_g, acc_g) = elmPredict_optim(ts_Samples_g, inW, outW, tip, ts_Labels_g)\n",
        "trun = ti.time()-t1\n",
        "print( \" prediction time: %f seconds\" %trun)\n",
        "print('ELM latency',1e6*trun/np.shape(ts_Labels)[1],' us')\n",
        "accuracy=cp.asnumpy(acc_g)\n",
        "\n",
        "print('----------------------------------------------------------')\n",
        "print('|              Accuracy is: ', 100*acc_g, '%             |')\n",
        "print('----------------------------------------------------------')\n",
        "\n",
        "print('===========Structure information ===============================')\n",
        "szk=len(kers)\n",
        "kbits=0\n",
        "for ii in range(szk):\n",
        "  kbits+=np.prod(np.shape(cp.asnumpy(kers[ii])))\n",
        "print('CONV: Number of bits in convolutional kernels: ', kbits)\n",
        "print('OUTP: Number of its in the output layer - ELM0: ', 8*clase*out_conv)\n",
        "\n",
        "print( \"Number of hidden neurons: %d\" %nr_neuroni)\n",
        "#print( \"Hidden nonlinearity (0=sigmoid; 1=linsat; 2=Relu; 3 - ABS; 4- multiquadric): %d\" %tip)\n",
        "print('Number of conv filters:  as follows: conv_layers:',conv_layers,' nf1:', nf1,' nf2: ', nf2, 'nf3: ',nf3 ) \n",
        "#print('C= ',C)   \n",
        "\n",
        "#====================================================================================   \n",
        "if accuracy>best_ac:\n",
        "  best_ac=accuracy\n",
        "  best_outw=outW\n",
        "  # update bk \n",
        "  print('Bk updated')\n",
        "  bk=kers\n",
        "\n",
        "All=np.append(All, accuracy)"
      ],
      "execution_count": 22,
      "outputs": [
        {
          "output_type": "stream",
          "name": "stdout",
          "text": [
            "(10000, 256, 7, 7)\n",
            "Train set convolution time: 0.015302181243896484  seconda\n",
            "(10000, 256, 7, 7)\n",
            "Test set convolution time 0.7165281772613525  seconds\n",
            "Classes:  10\n",
            "===============  convolved data =========================================\n",
            "Size of the output, convolved layer (nout):  12544\n",
            "===============Now ELM training ===============================================\n",
            "MMM - More neurons than training samples\n",
            " training time: 3.147566 seconds\n",
            " prediction time: 0.226927 seconds\n",
            "ELM latency 22.69270420074463  us\n",
            "----------------------------------------------------------\n",
            "|              Accuracy is:  98.52 %             |\n",
            "----------------------------------------------------------\n",
            "===========Structure information ===============================\n",
            "CONV: Number of bits in convolutional kernels:  2448\n",
            "OUTP: Number of its in the output layer - ELM0:  1003520\n",
            "Number of hidden neurons: 0\n",
            "Number of conv filters:  as follows: conv_layers: 2  nf1: 16  nf2:  16 nf3:  8\n"
          ]
        }
      ]
    },
    {
      "cell_type": "markdown",
      "metadata": {
        "id": "_gwmDLgqUeZj"
      },
      "source": [
        "# Auxiliarry cell: run to see the accuracies in all previous trials"
      ]
    },
    {
      "cell_type": "code",
      "metadata": {
        "id": "yalXCUfGPAy8",
        "execution": {
          "iopub.status.busy": "2021-10-27T12:24:26.055833Z",
          "iopub.execute_input": "2021-10-27T12:24:26.056257Z",
          "iopub.status.idle": "2021-10-27T12:24:26.260042Z",
          "shell.execute_reply.started": "2021-10-27T12:24:26.056218Z",
          "shell.execute_reply": "2021-10-27T12:24:26.259309Z"
        },
        "trusted": true,
        "colab": {
          "base_uri": "https://localhost:8080/",
          "height": 332
        },
        "outputId": "2aa2e318-04f1-4f5e-fe93-b9d7d6d96346"
      },
      "source": [
        "# Run this cell to show the progress of CUPY-ELM training \n",
        "\n",
        "print(np.max(All))\n",
        "print(np.min(All))\n",
        "print(np.shape(All))\n",
        "import matplotlib.pyplot as plt\n",
        "plt.plot(All)\n",
        "print('Best accuracy is\":: ', best_ac)"
      ],
      "execution_count": 23,
      "outputs": [
        {
          "output_type": "stream",
          "name": "stdout",
          "text": [
            "0.9852\n",
            "0.983\n",
            "(13,)\n",
            "Best accuracy is\"::  0.9852\n"
          ]
        },
        {
          "output_type": "display_data",
          "data": {
            "image/png": "[encoded data removed]",
            "text/plain": [
              "<Figure size 432x288 with 1 Axes>"
            ]
          },
          "metadata": {
            "needs_background": "light"
          }
        }
      ]
    },
    {
      "cell_type": "markdown",
      "metadata": {
        "id": "H8Ea0RaCUuQd"
      },
      "source": [
        "# Cell 7 - Define the Keras model for further embbeding of the non-standard LB-CNN model from above (defined by bk and outW) \n",
        "Run only once"
      ]
    },
    {
      "cell_type": "code",
      "metadata": {
        "id": "bzlZ1LdkH18A",
        "execution": {
          "iopub.status.busy": "2021-10-27T12:24:48.412940Z",
          "iopub.execute_input": "2021-10-27T12:24:48.413272Z",
          "iopub.status.idle": "2021-10-27T12:24:48.430167Z",
          "shell.execute_reply.started": "2021-10-27T12:24:48.413236Z",
          "shell.execute_reply": "2021-10-27T12:24:48.429376Z"
        },
        "trusted": true
      },
      "source": [
        "# CELL 7 - Defining a KERAS / TF Model \n",
        "#---------------------------------------------\n",
        "# Define a L-CNN base model (template to cast the BL-CNN optimized version)\n",
        "import tensorflow as tf \n",
        "from tensorflow.keras.models import Sequential\n",
        "from tensorflow.keras.layers import BatchNormalization\n",
        "from tensorflow.keras.layers import Dense, Dropout, Flatten, Activation\n",
        "from tensorflow.keras.layers import Conv2D, DepthwiseConv2D, MaxPooling2D, AveragePooling2D, GlobalAveragePooling2D, SeparableConv2D  # straturi convolutionale si max-pooling \n",
        "from tensorflow.keras.optimizers import RMSprop, SGD, Adadelta, Adam, Nadam\n",
        "\n",
        "def create_l_cnn_base_model(input_shape, filtre1=10, filtre2=10, filtre3=10, flat=1, nl=(1,1), convs=3, num_clase=10):\n",
        "  # convs - cate straturi convolutionale sunt implementate \n",
        "  # Arguments: k - multiplication coefficient \n",
        " \n",
        "  csize1=3; csize2=3 ; csize3=3      # convolution kernel size (square kernel) \n",
        "  psize1=4; psize2=4 ; psize3=4      # pooling size (square)\n",
        "  str1=2; str2=2; str3=2             # stride pooling (downsampling rate) \n",
        "  pad='same'; # padding style ('valid' is also an alternative)\n",
        "  type_conv=1\n",
        "  \n",
        "  model = Sequential()\n",
        "  #================= LAYER 1 ========================================================\n",
        "  if type_conv==2:\n",
        "        model.add(Conv2D(filtre1, padding=pad, kernel_size=(csize1, csize1), input_shape=input_shape))\n",
        "  elif type_conv==1:\n",
        "        model.add(DepthwiseConv2D(kernel_size=csize1, padding=pad, input_shape=input_shape, depth_multiplier=filtre1, use_bias=False))\n",
        "        # partea de mai jos emuleaza nl-cnn\n",
        "        if nl[0]>1:\n",
        "          for k in range(nl[0]-1): \n",
        "            model.add(Activation('relu'))\n",
        "            model.add(DepthwiseConv2D(kernel_size=csize1, padding=pad, depth_multiplier=1, use_bias=False))\n",
        " \n",
        "  model.add(MaxPooling2D(pool_size=(psize1, psize1),strides=(str1,str1),padding=pad))\n",
        "  if convs>1: \n",
        "  #================= LAYER 2 ========================================================\n",
        "    if type_conv==2:\n",
        "        model.add(Conv2D(filtre2, padding=pad, kernel_size=(csize2, csize2)) )\n",
        "    elif type_conv==1:\n",
        "        model.add(DepthwiseConv2D(kernel_size=csize2, padding=pad, depth_multiplier=filtre2, use_bias=False))\n",
        "        # Partea de mai jos -- nl=2 \n",
        "        if nl[1]>1:\n",
        "          for k in range(nl[1]-1): \n",
        "            model.add(Activation('relu'))\n",
        "            model.add(DepthwiseConv2D(kernel_size=csize3, padding=pad, depth_multiplier=1, use_bias=False))\n",
        "       \n",
        "        #model.add(Activation('relu'))\n",
        "        #model.add(DepthwiseConv2D(kernel_size=csize2, padding=pad, depth_multiplier=1, use_bias=False))\n",
        "    #model.add(Activation('relu'))\n",
        "    model.add(MaxPooling2D(pool_size=(psize2, psize2),strides=(str2,str2),padding=pad))\n",
        "  if convs>2:\n",
        "  #================= LAYER 3 ========================================================\n",
        "    if type_conv==2:\n",
        "        model.add(Conv2D(filtre3, padding=pad, kernel_size=(csize3, csize3)) )\n",
        "    elif type_conv==1:\n",
        "        model.add(DepthwiseConv2D(kernel_size=csize3, padding=pad, depth_multiplier=filtre3, use_bias=False))\n",
        "  #model.add(Activation('relu'))\n",
        "    model.add(MaxPooling2D(pool_size=(psize3, psize3),strides=(str3,str3),padding=pad))\n",
        "  #================= out \n",
        "  if flat==1:\n",
        "      model.add(Flatten())  # \n",
        "  elif flat==0:\n",
        "      model.add(GlobalAveragePooling2D()) # Global average \n",
        "  # Output dense layer  \n",
        "  model.add(Dense(num_clase,activation='softmax'))\n",
        "  return model\n"
      ],
      "execution_count": 24,
      "outputs": []
    },
    {
      "cell_type": "markdown",
      "metadata": {
        "id": "Eo2dzfYCVBvO"
      },
      "source": [
        "#Cell 8 Convert the non-standard LB-CNN model into a Keras model with weights in convolutional layers frozen\n",
        "Use **randk=0**; If **randk=1** one can simply generate a random binary weights LB-CNN model for further Keras training.\n",
        "\n",
        "In case of randk=1 the model is specified in lines 18-20"
      ]
    },
    {
      "cell_type": "code",
      "metadata": {
        "id": "kHHkv4i8Lyj4",
        "execution": {
          "iopub.status.busy": "2021-10-27T12:24:54.618155Z",
          "iopub.execute_input": "2021-10-27T12:24:54.618456Z",
          "iopub.status.idle": "2021-10-27T12:24:54.708984Z",
          "shell.execute_reply.started": "2021-10-27T12:24:54.618425Z",
          "shell.execute_reply": "2021-10-27T12:24:54.708271Z"
        },
        "trusted": true,
        "colab": {
          "base_uri": "https://localhost:8080/"
        },
        "outputId": "d0ae513f-bbb1-45d9-f25b-3ff7a9e7be78"
      },
      "source": [
        "# CELL 8 - IMPLEMENT THE MODEL AND DO THE TRANSFER (if randk=0) from the ELM-trained CUPY/CHAINER model \n",
        "# IF randk=1 A BINARY CNN MODEL IS GENERATED  \n",
        "\n",
        "#-------------------------------------------------------------------------------\n",
        "# Create a base model with binary non-trinable weights optimized via Cupy ELM \n",
        "# bk is used to load the kernel weights \n",
        "\n",
        "import numpy as np\n",
        "import tensorflow as tf\n",
        "import keras\n",
        "trainable=False\n",
        "\n",
        "#--- if commented they are defined in ELM-CUPY section above \n",
        "# uncomment\n",
        "randk=0 # Choose 0 to load the optimzed bk from CUPY-ELM training ( if =1 -> random binary )\n",
        "if randk==1:\n",
        "  # Ignores any ELM-CUPY-training\n",
        "  NL=(1,1)\n",
        "  (nf1,nf2,nf3)=(10,6,2)\n",
        "  conv_layers=2\n",
        "\n",
        "model=create_l_cnn_base_model(input_shape, nf1, nf2, nf3, flat=1, nl=NL, convs=conv_layers, num_clase=num_classes)\n",
        "\n",
        "\n",
        "allw=model.get_weights()\n",
        "nr=NL[0]\n",
        "if conv_layers>1:\n",
        "  nr=nr+NL[1] \n",
        "if conv_layers>2:\n",
        "  nr=nr+1\n",
        "\n",
        "\n",
        "ballw=allw # preparing weights for binarization \n",
        "for i in range(nr):\n",
        "  print('Layer: ',i,' weight shape', np.shape(allw[i]), 'Min: ',np.min(allw[i]), 'Max: ',np.max(allw[i]))\n",
        "  s1=np.shape(allw[i])\n",
        "  tsize=np.shape(np.shape(allw[i]))[0]\n",
        "  #print(np.shape(tsize))\n",
        "  if trainable==False:\n",
        "    if tsize == 4: # Convolutional layer \n",
        "      # Kernels bk - saved previously \n",
        "      if  randk==0: \n",
        "        kerns=cp.asnumpy(bk[i])\n",
        "        kkers=kerns.transpose(2,3,1,0) # Compatibility issue (Chainer -- Keras)\n",
        "        print('Shape Kers: ', np.shape(kkers))\n",
        "        ballw[i]=kkers\n",
        "        print('Shape ballw', np.shape(ballw[i]))\n",
        "      elif randk==1:\n",
        "        ballw[i]=np.sign(np.random.rand(s1[0],s1[1],s1[2],s1[3])-0.5)\n",
        "    elif tsize== 1: # It's not the case for depthwise \n",
        "      ballw[i]=np.sign(np.random.rand(s1[0])-0.5)\n",
        "\n",
        "\n",
        "  print('-------- Layer: ',i,' weights shape', np.shape(ballw[i]), 'Min: ',np.min(ballw[i]), 'Max: ',np.max(ballw[i]))\n",
        "\n",
        "\n",
        "model.set_weights(ballw)\n",
        "\n",
        "# This is needed in TF2.5. \n",
        "inp_shape=(None, input_shape[0], input_shape[1], input_shape[2] )   # Needed in TF2.5 \n",
        "model.build(input_shape=inp_shape)\n",
        "\n",
        "\n",
        "\n",
        "#------------ transfer ELM trained weights to the output layer \n",
        "if randk==0:\n",
        "  bp=model.get_weights()\n",
        "  print(np.shape(bp[nr]))\n",
        "  bp[nr]=(1/1000)*cp.asnumpy(outW)\n",
        "  bp[nr+1]=0*bp[nr+1]   # Bias is 0 \n",
        "  model.set_weights((bp))\n",
        "\n",
        "#-------------------------------------------\n",
        "if randk==1 :\n",
        "  lr=0.001\n",
        "else:\n",
        "  lr=0.00001\n",
        "\n",
        "myopt = Adam(learning_rate=lr)\n",
        "#myopt= RMSprop(learning_rate=0.00001)\n",
        "\n",
        "  # --------------------------   LOSS function  ------------------------------------\n",
        "my_loss='categorical_crossentropy'\n",
        "model.compile(loss=my_loss, \n",
        "              optimizer=myopt,   # any other optimization \n",
        "              metrics=['accuracy'])\n",
        "\n",
        "# If trainable=False - Makes all layers except the last non-trainable (to store binary weights)  \n",
        "nrlayers=len(model.layers)\n",
        "if trainable==False:\n",
        "\n",
        "  for i in range(nrlayers-1):\n",
        "      model.layers[i].trainable=False\n",
        "\n",
        "\n",
        "model.summary()\n"
      ],
      "execution_count": 35,
      "outputs": [
        {
          "output_type": "stream",
          "name": "stdout",
          "text": [
            "Layer:  0  weight shape (3, 3, 1, 16) Min:  -0.19597301 Max:  0.19394721\n",
            "Shape Kers:  (3, 3, 1, 16)\n",
            "Shape ballw (3, 3, 1, 16)\n",
            "-------- Layer:  0  weights shape (3, 3, 1, 16) Min:  -1.0 Max:  1.0\n",
            "Layer:  1  weight shape (3, 3, 16, 16) Min:  -0.14418192 Max:  0.14430109\n",
            "Shape Kers:  (3, 3, 16, 16)\n",
            "Shape ballw (3, 3, 16, 16)\n",
            "-------- Layer:  1  weights shape (3, 3, 16, 16) Min:  -1.0 Max:  1.0\n",
            "(12544, 10)\n",
            "Model: \"sequential_1\"\n",
            "_________________________________________________________________\n",
            "Layer (type)                 Output Shape              Param #   \n",
            "=================================================================\n",
            "depthwise_conv2d_2 (Depthwis (None, 28, 28, 16)        144       \n",
            "_________________________________________________________________\n",
            "max_pooling2d_2 (MaxPooling2 (None, 14, 14, 16)        0         \n",
            "_________________________________________________________________\n",
            "depthwise_conv2d_3 (Depthwis (None, 14, 14, 256)       2304      \n",
            "_________________________________________________________________\n",
            "max_pooling2d_3 (MaxPooling2 (None, 7, 7, 256)         0         \n",
            "_________________________________________________________________\n",
            "flatten_1 (Flatten)          (None, 12544)             0         \n",
            "_________________________________________________________________\n",
            "dense_1 (Dense)              (None, 10)                125450    \n",
            "=================================================================\n",
            "Total params: 127,898\n",
            "Trainable params: 125,450\n",
            "Non-trainable params: 2,448\n",
            "_________________________________________________________________\n"
          ]
        }
      ]
    },
    {
      "cell_type": "markdown",
      "metadata": {
        "id": "8eU2TnWvV5mh"
      },
      "source": [
        "#Cell 9 (auxiliary): Evaluate the Keras model on the test set"
      ]
    },
    {
      "cell_type": "code",
      "metadata": {
        "id": "Sk-MJIlTa8bl",
        "execution": {
          "iopub.status.busy": "2021-10-27T12:27:59.559365Z",
          "iopub.execute_input": "2021-10-27T12:27:59.559623Z",
          "iopub.status.idle": "2021-10-27T12:28:09.623658Z",
          "shell.execute_reply.started": "2021-10-27T12:27:59.559593Z",
          "shell.execute_reply": "2021-10-27T12:28:09.622320Z"
        },
        "trusted": true,
        "colab": {
          "base_uri": "https://localhost:8080/"
        },
        "outputId": "e988d870-2276-4be5-af59-30385c0d6a48"
      },
      "source": [
        "# CELL 9 - Evaluate the accuracy of the model \n",
        "# If OK skip to cell 12 and save the model \n",
        "# Else - additional Keras/Tensorflow training follows (eventually using the entire dataset)\n",
        "\n",
        "score=model.evaluate(x_test, y_test)\n",
        "print(score)\n",
        "\n"
      ],
      "execution_count": 38,
      "outputs": [
        {
          "output_type": "stream",
          "name": "stdout",
          "text": [
            "313/313 [==============================] - 1s 4ms/step - loss: 0.0315 - accuracy: 0.9895\n",
            "[0.031530603766441345, 0.9894999861717224]\n"
          ]
        }
      ]
    },
    {
      "cell_type": "markdown",
      "metadata": {
        "id": "Svu0k1QUWCoZ"
      },
      "source": [
        "#Cell 10 - Additional training of the output layer using Keras optimizers. \n",
        "It is useful to reload the full dataset (Cell 1, reduced=0) "
      ]
    },
    {
      "cell_type": "code",
      "metadata": {
        "id": "lK8HNlkvy-7Y",
        "execution": {
          "iopub.status.busy": "2021-10-27T12:27:20.082733Z",
          "iopub.execute_input": "2021-10-27T12:27:20.083145Z",
          "iopub.status.idle": "2021-10-27T12:27:35.969276Z",
          "shell.execute_reply.started": "2021-10-27T12:27:20.083109Z",
          "shell.execute_reply": "2021-10-27T12:27:35.967862Z"
        },
        "trusted": true,
        "colab": {
          "base_uri": "https://localhost:8080/",
          "height": 470
        },
        "outputId": "b6f30152-2704-4dbc-9166-15f35862ff7d"
      },
      "source": [
        "# CELL 10 \n",
        "#-------------------------------------------------------------------\n",
        "# Additional training - if needed \n",
        "# Typically improves the accuracy even for the reduced train set \n",
        "# Loading the full dataset and training provides the best performance \n",
        "#-----------------  for reproductibility  ----------------------\n",
        "import tensorflow as tf \n",
        "import keras\n",
        "import numpy as np # linear algebra\n",
        "import keras.backend as K \n",
        "\n",
        "import time as ti \n",
        "import scipy.io as sio\n",
        "import matplotlib.pyplot as plt\n",
        "\n",
        "#=====================================================================\n",
        "batch_size = 10  # useful for MNIST, CIFAR, for ORL take 1  ( eg.50-200 large datasets - 1/1000 train set typicall)\n",
        "epoci = 3 # maximal number of training epochs (the best result may be obtained earlier)\n",
        "train_style = 2 # 1-standard Keras (not recommended) ; 2 epoch by epoch and keeping best test accuracy until \"epoci\"; \n",
        "#-------------- \n",
        "augment=0\n",
        "first_time=1\n",
        "\n",
        "if first_time==1:\n",
        "  best_acc=0.0; best_ep=0\n",
        "else:\n",
        "  from keras.models import load_model\n",
        "  best_acc=0.6\n",
        "  model=load_model('B-nlcnn_gtrsb_88_59.h5')\n",
        "  #model.summary()\n",
        "# ---------------------- For some date augmetation may help  \n",
        "from tensorflow.keras.preprocessing.image import ImageDataGenerator\n",
        "if augment==1:\n",
        "  data_generator = ImageDataGenerator(\n",
        "                        ### --- useful for FER2013 ---\n",
        "                                      \n",
        "                          featurewise_center=False,\n",
        "                          featurewise_std_normalization=False,\n",
        "                          rotation_range=10,\n",
        "                          width_shift_range=0.1,\n",
        "                          height_shift_range=0.1,\n",
        "                          zoom_range=.1,\n",
        "                          horizontal_flip=True \n",
        "                          )\n",
        "  \n",
        "                        #------- useful for CIFAR10 according to https://github.com/moritzhambach/Image-Augmentation-in-Keras-CIFAR-10-\n",
        "elif augment==2:\n",
        "  data_generator = ImageDataGenerator(\n",
        "                          rotation_range=15,\n",
        "                          horizontal_flip=True,\n",
        "                          width_shift_range=0.1,\n",
        "                          height_shift_range=0.1\n",
        "                        #------------------------------\n",
        "                         )\n",
        "elif augment==3:      # Proposed  in https://github.com/khanhnamle1994/fashion-mnist/blob/master/CNN-4Conv.ipynb\n",
        "  data_generator = ImageDataGenerator(rotation_range=8, width_shift_range=0.08, shear_range=0.3,\n",
        "                               height_shift_range=0.08, zoom_range=0.08)\n",
        "\n",
        "\n",
        "#=========================================================================================\n",
        "err_test=np.zeros(epoci)   # For plotting test error evolution  \n",
        "t1=ti.time()\n",
        "for k in range(epoci):\n",
        "      tx=ti.time()\n",
        "      # No augmentation \n",
        "      if augment==0:\n",
        "        model.fit(x_train, y_train,\n",
        "              batch_size=batch_size,\n",
        "              epochs=1,\n",
        "              verbose=0,  # aici 0 (nu afiseaza nimic) 1 (detaliat) 2(numai epocile)\n",
        "              validation_data=(x_test, y_test))\n",
        "        \n",
        "        # ---- Next lines to ensure the model is binary \n",
        "        # although conv layer are set Non-Trainable there is a small update there \n",
        "        bpt=model.get_weights()\n",
        "        #--- next lines ensure binary conv. values \n",
        "        last_layer=len(bpt)\n",
        "        for kz in range(last_layer-2):\n",
        "              bpt[kz]=np.sign(bpt[kz])\n",
        "        model.set_weights(bpt)\n",
        "        \n",
        "       #-----------------------------------------------\n",
        "      elif augment>0:\n",
        "        # Augmented data \n",
        "          model.fit_generator(data_generator.flow(x_train, y_train,\n",
        "              batch_size=batch_size),\n",
        "              epochs=1,shuffle=False, \n",
        "              verbose=0,  # no display \n",
        "              validation_data=(x_test, y_test))\n",
        "              #,callbacks=callbacks)        \n",
        "      ty=ti.time()\n",
        "      print('/',k,'epoch lasted ',ty-tx,' seconds')\n",
        "      \n",
        "      score = model.evaluate(x_test, y_test, verbose=0)\n",
        "\n",
        "      err_test[k]=score[1]\n",
        "      if score[1]>best_acc : \n",
        "            print('Improved in epoch:', k, ' New accuracy: ', 100*score[1],'%')\n",
        "            best_acc=score[1]\n",
        "            best_ep=k\n",
        "            bp=model.get_weights()\n",
        "            \n",
        "t2=ti.time()\n",
        "print('Best accuracy:', best_acc*100, '% reached in epoch: ',best_ep, ' running  ',epoci,' epochs lasts ',t2-t1,' seconds')\n",
        "plt.plot(err_test)\n",
        "model.set_weights((bp)) # evaluete prediction time on all test samples\n",
        "t1=ti.time()\n",
        "score = model.evaluate(x_test, y_test, verbose=0)\n",
        "t2=ti.time()\n",
        "print ('Total number of parameters: ',model.count_params())\n",
        "print('Test accuracy:', score[1])\n",
        "print ('Time for test set : ',t2-t1)\n",
        "print('Latency (per input sample):', 1000*(t2-t1)/np.shape(x_test)[0], 'ms')\n"
      ],
      "execution_count": 41,
      "outputs": [
        {
          "output_type": "stream",
          "name": "stdout",
          "text": [
            "/ 0 epoch lasted  20.59454655647278  seconds\n",
            "Improved in epoch: 0  New accuracy:  98.72999787330627 %\n",
            "/ 1 epoch lasted  19.15428328514099  seconds\n",
            "Improved in epoch: 1  New accuracy:  98.7500011920929 %\n",
            "/ 2 epoch lasted  19.15643072128296  seconds\n",
            "Improved in epoch: 2  New accuracy:  98.96000027656555 %\n",
            "Best accuracy: 98.96000027656555 % reached in epoch:  2  running   3  epochs lasts  62.664963483810425  seconds\n",
            "Total number of parameters:  127898\n",
            "Test accuracy: 0.9896000027656555\n",
            "Time for test set :  1.3209333419799805\n",
            "Latency (per input sample): 0.13209333419799804 ms\n"
          ]
        },
        {
          "output_type": "display_data",
          "data": {
            "image/png": "[encoded data removed]",
            "text/plain": [
              "<Figure size 432x288 with 1 Axes>"
            ]
          },
          "metadata": {
            "needs_background": "light"
          }
        }
      ]
    },
    {
      "cell_type": "code",
      "metadata": {
        "id": "k8RV2rvCcias",
        "execution": {
          "iopub.status.busy": "2021-10-27T12:27:12.810021Z",
          "iopub.execute_input": "2021-10-27T12:27:12.810603Z",
          "iopub.status.idle": "2021-10-27T12:27:13.003618Z",
          "shell.execute_reply.started": "2021-10-27T12:27:12.810546Z",
          "shell.execute_reply": "2021-10-27T12:27:13.002704Z"
        },
        "trusted": true,
        "colab": {
          "base_uri": "https://localhost:8080/"
        },
        "outputId": "0717719c-4887-4777-a9ce-0c2399dc8b0c"
      },
      "source": [
        "import gc\n",
        "gc.collect()\n",
        "# Can be used to free some RAM "
      ],
      "execution_count": 40,
      "outputs": [
        {
          "output_type": "execute_result",
          "data": {
            "text/plain": [
              "29904"
            ]
          },
          "metadata": {},
          "execution_count": 40
        }
      ]
    },
    {
      "cell_type": "markdown",
      "metadata": {
        "id": "ww0FMoq7WfWQ"
      },
      "source": [
        "#Cell 11 - Fixed-point quantization of the output layer\n",
        "Try various **nb_out** values in order to obtain simillar accuracy to that prodeced in Cell 10 (using float32 weights in the output layer) "
      ]
    },
    {
      "cell_type": "code",
      "metadata": {
        "id": "mk6B3xwP2ETs",
        "colab": {
          "base_uri": "https://localhost:8080/"
        },
        "outputId": "99a397cd-afe8-4f60-8eec-c78354f6836a"
      },
      "source": [
        "# CELL 11 - FIXED POINT QUANTIZATION OF THE OUTPUT DENSE LAYER \n",
        "#---------------------------------------------------------------\n",
        "# QMLP0 (quantified MLP0 module)\n",
        "# Quantization of the above resulted model (only for MLP0)\n",
        "# Copyright Radu and Ioana DOGARU;  \n",
        "#=============================================================\n",
        "nb_out=11  # Quantization factor (bits per weight)\n",
        "#-------------------------------------------------------------------\n",
        "outWx=bp.copy()\n",
        "Qout=-1+pow(2,nb_out-1)\n",
        "# Fixed point quantization in output dense layer \n",
        "if (nb_out >0) :\n",
        "    O=np.max(np.abs(outWx[0]))\n",
        "    outWx[last_layer-2]=np.round(outWx[last_layer-2]*(1/O)*Qout)\n",
        "    outWx[last_layer-1]=np.round(outWx[last_layer-1]*(1/O)*Qout)\n",
        "    model.set_weights(outWx)\n",
        "    score = model.evaluate(x_test, y_test, verbose=0)\n",
        "    best_acc=score[1]\n",
        "    gama=np.max(np.abs(outWx[last_layer-2]))\n",
        "    nbits=np.ceil(np.log2(gama))+1 # 1= Sign bit \n",
        "    print('Output layer weights quantized with:', nbits, 'bits')\n",
        "    print('Quantified accuracy is:', best_acc*100,'%')\n",
        "else: \n",
        "    model.set_weights(outWx)\n",
        "    score = model.evaluate(x_test, y_test, verbose=0)\n",
        "    best_acc=score[1]\n",
        "    print('Output layer weights in float32')\n",
        "    print('Accuracy is:', best_acc*100,'%')\n",
        "outWx=model.get_weights() # the resulting model with fixed point weights"
      ],
      "execution_count": 42,
      "outputs": [
        {
          "output_type": "stream",
          "name": "stdout",
          "text": [
            "Output layer weights quantized with: 9.0 bits\n",
            "Quantified accuracy is: 98.97000193595886 %\n"
          ]
        }
      ]
    },
    {
      "cell_type": "markdown",
      "metadata": {
        "id": "AoD8qXuLXAbm"
      },
      "source": [
        "Auxiliary: Investigates the values of weights on different layers (level=0,...) "
      ]
    },
    {
      "cell_type": "code",
      "metadata": {
        "id": "00MteB6N9_2X",
        "colab": {
          "base_uri": "https://localhost:8080/"
        },
        "outputId": "c4874db4-44a3-4252-baf3-53af7aa5e7eb"
      },
      "source": [
        "level=last_layer-2\n",
        "print(np.shape(outWx[level]))\n",
        "print('MAX: ', np.max(outWx[level][:]))\n",
        "print('MIN: ',np.min(outWx[level][:]))\n",
        "#np.histogram(outWx[level])"
      ],
      "execution_count": 43,
      "outputs": [
        {
          "output_type": "stream",
          "name": "stdout",
          "text": [
            "(12544, 10)\n",
            "MAX:  136.0\n",
            "MIN:  -115.0\n"
          ]
        }
      ]
    },
    {
      "cell_type": "markdown",
      "metadata": {
        "id": "DO-F4BZdXSO-"
      },
      "source": [
        "#Cell 12 Save the model in .h5 format "
      ]
    },
    {
      "cell_type": "code",
      "metadata": {
        "id": "cT9sjsn815KE",
        "colab": {
          "base_uri": "https://localhost:8080/",
          "height": 754
        },
        "outputId": "7a83422b-53a0-4e26-b848-f888109bf962"
      },
      "source": [
        "# CELL 12 - SAVE THE MODEL \n",
        "#--------------------------------------\n",
        "# SAVING and visualising model \n",
        "#-----------------------------------------------------------\n",
        "nume_dorit='lb_cnn_mnist_98_97'  # Desired name for the file \n",
        "model.save(nume_dorit+'.h5')  \n",
        "#tf.keras.models.save_model(model,'tmp.h5')\n",
        "from keras.utils.vis_utils import plot_model\n",
        "plot_model(model, to_file=nume_dorit+'.png', show_shapes=True, show_layer_names=True, dpi=96)"
      ],
      "execution_count": 44,
      "outputs": [
        {
          "output_type": "execute_result",
          "data": {
            "image/png": "[encoded data removed]",
            "text/plain": [
              "<IPython.core.display.Image object>"
            ]
          },
          "metadata": {},
          "execution_count": 44
        }
      ]
    }
  ]
}