{
  "nbformat": 4,
  "nbformat_minor": 0,
  "metadata": {
    "accelerator": "GPU",
    "colab": {
      "name": "Binary_NL-CNN-Cupy-Chainer-Keras-improved.ipynb",
      "provenance": [],
      "collapsed_sections": [],
      "toc_visible": true,
      "machine_shape": "hm"
    },
    "kernelspec": {
      "display_name": "Python 3",
      "name": "python3"
    }
  },
  "cells": [
    {
      "cell_type": "markdown",
      "metadata": {
        "id": "3lhvX20tRAuh"
      },
      "source": [
        "Code in support for paper \n",
        "============================\n",
        "Allows to optimize / train a binary convolutional compact NL-CNN model. \n",
        "\n",
        "Copyright Radu & Ioana DOGARU, May 2021  \n",
        "=============================================="
      ]
    },
    {
      "cell_type": "code",
      "metadata": {
        "colab": {
          "base_uri": "https://localhost:8080/"
        },
        "id": "HG-4kcmhDVj1",
        "outputId": "607bc122-ddd0-4d36-c76b-fc5d9c07271a"
      },
      "source": [
        "# CELL 0 - DETAILS ABOUT THE AVAILABLE GPU \n",
        "!nvidia-smi"
      ],
      "execution_count": 1,
      "outputs": [
        {
          "output_type": "stream",
          "text": [
            "Mon May 31 13:36:16 2021       \n",
            "+-----------------------------------------------------------------------------+\n",
            "| NVIDIA-SMI 465.19.01    Driver Version: 460.32.03    CUDA Version: 11.2     |\n",
            "|-------------------------------+----------------------+----------------------+\n",
            "| GPU  Name        Persistence-M| Bus-Id        Disp.A | Volatile Uncorr. ECC |\n",
            "| Fan  Temp  Perf  Pwr:Usage/Cap|         Memory-Usage | GPU-Util  Compute M. |\n",
            "|                               |                      |               MIG M. |\n",
            "|===============================+======================+======================|\n",
            "|   0  Tesla K80           Off  | 00000000:00:04.0 Off |                    0 |\n",
            "| N/A   59C    P8    34W / 149W |      0MiB / 11441MiB |      0%      Default |\n",
            "|                               |                      |                  N/A |\n",
            "+-------------------------------+----------------------+----------------------+\n",
            "                                                                               \n",
            "+-----------------------------------------------------------------------------+\n",
            "| Processes:                                                                  |\n",
            "|  GPU   GI   CI        PID   Type   Process name                  GPU Memory |\n",
            "|        ID   ID                                                   Usage      |\n",
            "|=============================================================================|\n",
            "|  No running processes found                                                 |\n",
            "+-----------------------------------------------------------------------------+\n"
          ],
          "name": "stdout"
        }
      ]
    },
    {
      "cell_type": "code",
      "metadata": {
        "id": "eF-hJAHmCCUW"
      },
      "source": [
        "%tensorflow_version 2.x"
      ],
      "execution_count": null,
      "outputs": []
    },
    {
      "cell_type": "code",
      "metadata": {
        "colab": {
          "base_uri": "https://localhost:8080/"
        },
        "id": "1aMWaQ8zPvMz",
        "outputId": "c0295439-d623-4068-885e-56fc96f2a4c5"
      },
      "source": [
        "# CELL 1a - loading a specific dataset \n",
        "# ---- CELLS of type 1a can be added for specific datasets \n",
        "\n",
        "# Here datasets from SKLEARN - here the ORL Face recognition \n",
        "# with possibility to select the fraction for training \n",
        "#--------------------------------------------------------\n",
        "k1=250     # Training samples \n",
        "toate=400  # All images \n",
        "#---------------------------------------------------------\n",
        "import tensorflow as tf\n",
        "from sklearn import datasets as dat\n",
        "import numpy as np\n",
        "e=dat.fetch_olivetti_faces(data_home=None, shuffle=True, random_state=0, download_if_missing=True)\n",
        "\n",
        "\n",
        "x_train=e.images[0:k1,:,:]\n",
        "x_test=e.images[k1:toate,:,:]\n",
        "y_train=e.target[0:k1]\n",
        "y_test=e.target[k1:toate]\n",
        "\n",
        "if (np.ndim(x_train)==3):   # E.g.  MNIST or F-MNIST  \n",
        "    x_train=np.reshape(x_train, [np.shape(x_train)[0],np.shape(x_train)[1],np.shape(x_train)[2], 1]) \n",
        "    x_test=np.reshape(x_test, [np.shape(x_test)[0],np.shape(x_test)[1],np.shape(x_test)[2], 1] ) \n",
        "# place a  1 in the end to keep it compatible with kernel in conv2d \n",
        "\n",
        "x_train = x_train.astype('float32')\n",
        "x_test = x_test.astype('float32')\n",
        "\n",
        "y_train=np.reshape(y_train, [np.shape(y_train)[0], 1]) \n",
        "y_test=np.reshape(y_test, [np.shape(y_test)[0], 1] ) \n",
        "num_classes=np.max(y_train)+1\n",
        "\n",
        "y_train_nc=y_train  #-----------------------------------------\n",
        "y_test_nc=y_test  # keep non-categorical version for ELM training \n",
        "\n",
        "y_train = tf.keras.utils.to_categorical(y_train, num_classes)\n",
        "y_test = tf.keras.utils.to_categorical(y_test, num_classes)\n",
        "inp_chan=np.shape(x_train)[3]\n",
        "num_inputs = np.shape(x_test)[1]\n",
        "input_shape=np.shape(x_train)[1:4]"
      ],
      "execution_count": null,
      "outputs": [
        {
          "output_type": "stream",
          "text": [
            "downloading Olivetti faces from https://ndownloader.figshare.com/files/5976027 to /root/scikit_learn_data\n"
          ],
          "name": "stdout"
        }
      ]
    },
    {
      "cell_type": "code",
      "metadata": {
        "colab": {
          "base_uri": "https://localhost:8080/"
        },
        "id": "yFFIr2Je52eN",
        "outputId": "049d0f57-ba7f-46e7-ffd2-a6db3dd50610"
      },
      "source": [
        "# CELL 1B \n",
        "# Datasets from Keras - MNIST, F_MNIST, CIFAR \n",
        "#---------------------------------------------------\n",
        "# In the kernel optimization phase a small number of training samples must be considered. \n",
        "# After optimization re-run the cell to load the entire data set  \n",
        "#------------------------------------------------------------------------\n",
        "dataset='cifar10' # mnist or f-mnist or cifar10 \n",
        "reduced=10000  # Use as little as possible to accomodate the available GPU RAM \n",
        "#------------------------------------------------------------------------------------\n",
        "\n",
        "import numpy as np\n",
        "import tensorflow as tf\n",
        "\n",
        " \n",
        "dformat='channels_last'\n",
        "\n",
        "from keras.datasets import mnist, cifar10, cifar100, fashion_mnist\n",
        "\n",
        "if dataset=='mnist':\n",
        "    (x_train, y_train), (x_test, y_test) = mnist.load_data() # incarca date nescalate \n",
        "elif  dataset=='cifar10': \n",
        "    (x_train, y_train), (x_test, y_test) = cifar10.load_data() # incarca date nescalate \n",
        "elif  dataset=='cifar100': \n",
        "    (x_train, y_train), (x_test, y_test) = cifar100.load_data() # incarca date nescalate \n",
        "elif dataset=='f-mnist':\n",
        "    (x_train, y_train), (x_test, y_test) =  fashion_mnist.load_data()\n",
        "\n",
        "if (np.ndim(x_train)==3):   # E.g.  MNIST or F-MNIST  \n",
        "    x_train=np.reshape(x_train, [np.shape(x_train)[0],np.shape(x_train)[1],np.shape(x_train)[2], 1]) \n",
        "    x_test=np.reshape(x_test, [np.shape(x_test)[0],np.shape(x_test)[1],np.shape(x_test)[2], 1] ) \n",
        "# place a  1 in the end to keep it compatible with kernel in conv2d \n",
        "# scaling in ([0,1])\n",
        "x_train = x_train.astype('float32')\n",
        "x_test = x_test.astype('float32')\n",
        "x_train /= 255\n",
        "x_test /=255 \n",
        "inp_chan=np.shape(x_train)[3] \n",
        "print('Number of input channels in image:', inp_chan)\n",
        "num_classes=np.max(y_train)+1\n",
        "num_inputs = np.shape(x_test)[1]\n",
        "input_shape=np.shape(x_train)[1:4]\n",
        "\n",
        "y_train_nc=y_train  #-----------------------------------------\n",
        "y_test_nc=y_test  # Keep non-categorical version for ELM training  \n",
        "\n",
        "\n",
        "if reduced>0:\n",
        "    Ntr1=reduced\n",
        "    x_train=x_train[0:Ntr1,:,:,:]\n",
        "    y_train=y_train[0:Ntr1]\n",
        "    y_train_nc=y_train\n",
        "y_train = tf.keras.utils.to_categorical(y_train, num_classes)\n",
        "y_test = tf.keras.utils.to_categorical(y_test, num_classes)\n",
        "\n",
        "#----------------------------------------------------------------------------\n"
      ],
      "execution_count": 2,
      "outputs": [
        {
          "output_type": "stream",
          "text": [
            "Number of input channels in image: 3\n"
          ],
          "name": "stdout"
        }
      ]
    },
    {
      "cell_type": "code",
      "metadata": {
        "colab": {
          "base_uri": "https://localhost:8080/"
        },
        "id": "5rWrq5Cf3WIs",
        "outputId": "2ca59f67-cb2c-436b-8a51-a8b32c6ec92f"
      },
      "source": [
        "# CELL 2 - Must run when for CUPY/CHAINER implementation \n",
        "#---------  converts datasest into Chainer format and puts them on GPU \n",
        "\n",
        "import time as ti \n",
        "import cupy as cp\n",
        "import chainer \n",
        "from chainer.functions import convolution_2d, depthwise_convolution_2d, relu, flatten, max_pooling_2d, reshape\n",
        "chainer.configuration.config.cudnn_deterministic=True  \n",
        "chainer.using_config('autotune',True)\n",
        "\n",
        "xc_train=np.moveaxis(x_train,3,1)\n",
        "xc_test=np.moveaxis(x_test,3,1)\n",
        "# move on GPU \n",
        "xc_train_g=cp.asarray(xc_train)\n",
        "xc_test_g=cp.asarray(xc_test)\n",
        "\n",
        "c_in=np.size(xc_train,1)\n",
        "print('===============  input data =========================================')\n",
        "print('Channels in input image: ',c_in)\n",
        "print('Size of raw input samples:', np.size(xc_train,2),'x',np.size(xc_train,3))\n",
        "print('Number of training samples: ',np.size(xc_train,0))\n",
        "\n"
      ],
      "execution_count": 3,
      "outputs": [
        {
          "output_type": "stream",
          "text": [
            "===============  input data =========================================\n",
            "Channels in input image:  3\n",
            "Size of raw input samples: 32 x 32\n",
            "Number of training samples:  10000\n"
          ],
          "name": "stdout"
        }
      ]
    },
    {
      "cell_type": "code",
      "metadata": {
        "id": "KjcTKtYN_GHP"
      },
      "source": [
        "# CELL 4 - defines functions for the BNL-CNN with CUPY ELM training \n",
        "#---------------------------------------------------------------------\n",
        "#  Useful functions and imports \n",
        "#------------------------------------------------\n",
        "#  Next:  CUPY - ELM (very fast training when data is already on GPU) \n",
        "# ================================================================\n",
        "\n",
        "\n",
        "def hidden_nonlin(hid_in, tip):\n",
        "# implementation of the hidden layer \n",
        "# additional nonlinearitys may be added \n",
        "    if tip==0: \n",
        "        # sigmoid \n",
        "        H=cp.tanh(hid_in)        \n",
        "    elif tip==1:\n",
        "        # linsat \n",
        "        H=cp.abs(1+hid_in)-cp.abs(1-hid_in)\n",
        "    elif tip==2:\n",
        "        # ReLU\n",
        "        H=cp.abs(hid_in)+hid_in\n",
        "    elif tip==3:\n",
        "        #  very well suited for emmbeded systems \n",
        "        H=cp.abs(hid_in)\n",
        "    elif tip==4:\n",
        "        H=cp.sqrt(hid_in*hid_in+1)\n",
        "        # multiquadric \n",
        "    elif tip==5:\n",
        "        H=cp.sign(hid_in)\n",
        "        # multiquadric\n",
        "    return H\n",
        "        \n",
        "# ELM training \n",
        "def elmTrain_optim(X, Y, h_Neurons, C , tip):\n",
        "# Training phase - floating point precision (no quantization)\n",
        "# X - Samples (feature vectors) Y - Labels\n",
        "      Ntr = cp.size(X,1)\n",
        "      in_Neurons = cp.size(X,0)\n",
        "      classes = cp.size(Y,0)\n",
        "      \n",
        "      #   Generate inW layer  \n",
        "      if h_Neurons>0:\n",
        "          rnd = cp.random.RandomState()\n",
        "          inW=-1+2*rnd.rand(h_Neurons, in_Neurons).astype('float32')\n",
        "          \n",
        "          #inW=cp.dot(inW,CO)\n",
        "          #  Compute hidden layer \n",
        "          hid_inp = cp.dot(inW, X)\n",
        "          H=hidden_nonlin(hid_inp,tip)\n",
        "      elif h_Neurons==0:\n",
        "          inW=cp.asarray([])\n",
        "          h_Neurons=in_Neurons\n",
        "          H = X\n",
        "      \n",
        "      # Moore - Penrose computation of output weights (outW) layer \n",
        "      if h_Neurons<Ntr:\n",
        "          print('LLL - Less neurons than training samples')\n",
        "          outW = cp.linalg.solve(cp.eye(h_Neurons)/C+cp.dot(H,H.T), cp.dot(H,Y.T))     \n",
        "      else:\n",
        "          print('MMM - More neurons than training samples')\n",
        "          outW = cp.dot(H,cp.linalg.solve(cp.eye(Ntr)/C+cp.dot(H.T,H), Y.T))\n",
        "      return inW, outW \n",
        "\n",
        "\n",
        "# implements the ELM training procedure with weight quantization       \n",
        "def elmTrain_fix( X, Y, h_Neurons, C , tip, ni):\n",
        "# Training phase - emulated fixed point precision (ni bit quantization)\n",
        "# X - Samples (feature vectors) Y - Labels\n",
        "# ni - number of bits to quantize the inW\n",
        "      Ntr = cp.size(X,1)\n",
        "      in_Neurons = cp.size(X,0)\n",
        "      classes = cp.size(Y,0)\n",
        "    \n",
        "      #   Generate inW layer  \n",
        "      if h_Neurons>0:\n",
        "          rnd = cp.random.RandomState()\n",
        "          inW=-1+2*rnd.rand(h_Neurons, in_Neurons).astype('float32')\n",
        "          #inW=rnd.randn(nHiddenNeurons, nInputNeurons).astype('float32')\n",
        "          Qi=-1+pow(2,ni-1) \n",
        "          inW=cp.round_(inW*Qi)\n",
        "          #  Compute hidden layer \n",
        "          hid_inp = cp.dot(inW, X)\n",
        "          H=hidden_nonlin(hid_inp,tip)\n",
        "      elif h_Neurons==0:\n",
        "          inW=cp.asarray([])\n",
        "          h_Neurons=in_Neurons\n",
        "          H = X     \n",
        "      # Moore - Penrose computation of output weights (outW) layer \n",
        "      if h_Neurons<Ntr:\n",
        "          print('LLL - Less neurons than training samples')\n",
        "          outW = cp.linalg.solve(cp.eye(h_Neurons)/C+cp.dot(H,H.T), cp.dot(H,Y.T))     \n",
        "      else:\n",
        "          print('MMM - More neurons than training samples')\n",
        "          outW = cp.dot(H,cp.linalg.solve(cp.eye(Ntr)/C+cp.dot(H.T,H), Y.T))\n",
        "     \n",
        "      return inW, outW \n",
        "      \n",
        "# ELM predict  (using a model defined by: [inW, outW, tip])\n",
        "def elmPredict_optim( X, inW, outW, tip, ts_Labels):\n",
        "# implements the ELM predictor given the model as arguments \n",
        "# model is given by inW, outW and tip \n",
        "# returns a score matrix (winner class has the maximal score)\n",
        "#------------ 28 mai 2021 - computes accuracies and predicted labels \n",
        "\n",
        "\n",
        "      if cp.size(inW)==0: \n",
        "        H=X\n",
        "        \n",
        "      else: \n",
        "        hid_in=cp.dot(inW, X)\n",
        "        H=hidden_nonlin(hid_in,tip)\n",
        "      #print('aspect:',np.shape(H))\n",
        "      score = np.transpose(cp.dot(cp.transpose(H),outW))\n",
        "      pred=1+cp.argmax(score, axis=0) # predicted labels (min =1)\n",
        "      # Given the ts_Labels one may compute accuracy \n",
        "      correct=cp.count_nonzero(pred==ts_Labels)\n",
        "      Ns=np.shape(cp.asnumpy(ts_Labels))[1]\n",
        "      acc=correct/Ns\n",
        "      \n",
        "      return pred, acc \n",
        "        \n",
        "# Binary kernles generator - supports the NL-CNN model with depthwise_convolution \n",
        "# \n",
        "\n",
        "def ker_gen_x(c_in,nf1,nf2,nf3, nl, convs):   # \n",
        "    kers=[]\n",
        "    ker=cp.sign(cp.random.rand(nf1, c_in, 3, 3).astype('float32')-0.5)\n",
        "    kers.append(ker)\n",
        "    if nl[0]>1:\n",
        "      for k in range(-1+nl[0]):\n",
        "        ker=cp.sign(cp.random.rand(1, c_in*nf1, 3, 3).astype('float32')-0.5)\n",
        "        kers.append(ker)\n",
        "\n",
        "\n",
        "    # --------- LAYER 2 ----------------------   \n",
        "    if convs>1: \n",
        "      ker=cp.sign(cp.random.rand(nf2, nf1*c_in, 3, 3).astype('float32')-0.5)\n",
        "      kers.append(ker)\n",
        "      if nl[1]>1:\n",
        "        for k in range(-1+nl[1]):\n",
        "          ker=cp.sign(cp.random.rand(1, c_in*nf1*nf2, 3, 3).astype('float32')-0.5)\n",
        "          kers.append(ker)\n",
        "  \n",
        "    # ---- LAYER 3 ----------------------\n",
        "    if convs>2:\n",
        "      ker=cp.sign(cp.random.rand(nf3, nf2*nf1*c_in, 3, 3).astype('float32')-0.5)\n",
        "      kers.append(ker)\n",
        "    return kers\n",
        "\n",
        "# Define the NL_CNN model with (binary) kernels previously generated or learned \n",
        "\n",
        "def my_model(inpdata, nl, convs, kers):  # Implements the nonlinear model NL-CNN \n",
        "    \n",
        "    str1=2 # Same strides on all layers \n",
        "    #print('Strat 1')\n",
        "    net=depthwise_convolution_2d(inpdata, kers[0], pad=1)\n",
        "    #print('Index: ',0)\n",
        "    if nl[0]>1:\n",
        "      for k in range(-1+nl[0]):\n",
        "        net=relu(net)\n",
        "        net=depthwise_convolution_2d(net, kers[k+1], pad=1)\n",
        "        #print('Index: ',k+1)\n",
        "    net=max_pooling_2d(net,ksize=4,stride=str1, pad=1, cover_all=True)\n",
        "    if convs>1: \n",
        "      #------------- second macro-layer \n",
        "      #print('Strat 2')\n",
        "      net=depthwise_convolution_2d(net, kers[nl[0]], pad=1)\n",
        "      #print('Index: ',nl[0])\n",
        "      if nl[1]>1:\n",
        "        for k in range(-1+nl[1]):\n",
        "          net=relu(net)\n",
        "          #print('Index: ',k+1+nl[0])\n",
        "          net=depthwise_convolution_2d(net, kers[k+1+nl[0]], pad=1)\n",
        "        \n",
        "    \n",
        "      net=max_pooling_2d(net,ksize=4,stride=str1, pad=1, cover_all=True)\n",
        "    if convs>2:\n",
        "      # ---------- 3'd macrolayer \n",
        "      #print('Strat 3')\n",
        "      #print('Index: ',nl[0]+nl[1])\n",
        "      net=depthwise_convolution_2d(net, kers[nl[0]+nl[1]], pad=1)\n",
        "      net=max_pooling_2d(net, ksize=4,stride=str1, pad=1, cover_all=True)\n",
        "    shp=np.shape(net)\n",
        "    # -- FLATTEN + ELM style input conversion \n",
        "    perm=(0,2,3,1)  # Permute for compatibility with TF/Keras models  \n",
        "    net=reshape(net.transpose(perm),(shp[0],shp[1]*shp[2]*shp[3]))\n",
        "    print(shp)\n",
        "    return net\n"
      ],
      "execution_count": 4,
      "outputs": []
    },
    {
      "cell_type": "code",
      "metadata": {
        "id": "64YkhAw7eqry"
      },
      "source": [
        "# CELL 5 - Run only once before starting random binary kernel trials with CELL 6 \n",
        "#----------------------------------------------------\n",
        "# Run this cell at the beginning of the optimization process\n",
        "\n",
        "All=np.zeros(0)  # DO The next cell until the best performance (accuracy) is acceptable \n",
        "best_ac=0\n",
        "\n",
        "# Then run next cell as many trials are needed to improve performance \n"
      ],
      "execution_count": 10,
      "outputs": []
    },
    {
      "cell_type": "code",
      "metadata": {
        "colab": {
          "base_uri": "https://localhost:8080/"
        },
        "id": "6S--owNUHQqP",
        "outputId": "e58dd82f-397e-461b-ddd1-cf9e2ce3d461"
      },
      "source": [
        "# CELL 6 \n",
        "# -- Run as many trials as needed to improve the ELM0 accuracy \n",
        "# then put use_stored=1 and run again for best kernels (bk)\n",
        "\n",
        "# CUPY/CHAINER model with random kernels at each stage !\n",
        "# Run several times to improve the accuracy \n",
        "#--------------------------------------------------------------------------------------\n",
        "use_stored=1  # 0 = uses random kernles ; 1 - uses the bk (best solution found during the trials)\n",
        "conv_layers=2 # convolution layers - \n",
        "nf1=8; nf2=6; nf3=2 # filers in conv layers  \n",
        "# Here the filters for the depthwise model only \n",
        "NL=(1,1) # Nonlinearity for the NL-CNN model \n",
        "\n",
        "#----------- ELM setup ----------------------------------\n",
        "nr_neuroni=0 # 0 = ELM0 (with no hidden layer)\n",
        "C=0.0010  \n",
        "tip=3 # Neliniaritate strat ascuns (0-tanh, 1-linsat, 2-ReLu, 3- abs(), 4-multiquad, 5 sign() )  \n",
        "nb_in=2;  # 0 = float; >0 = nr. biti cuantizare ponderi strat intrare \n",
        "nb_out=8; # 0 = float; >0 = output layer fixed point quantization \n",
        "\n",
        "\n",
        "# GENERATE KERNLES (BINARY)\n",
        "if use_stored==0:\n",
        "  kers=ker_gen_x(c_in, nf1, nf2, nf3, NL, conv_layers)\n",
        "else: \n",
        "  kers=bk \n",
        "\n",
        "# ----------------------- IMPLEMENT CONV LAYERS ON TRAIN SET\n",
        "\n",
        "t1=ti.time()\n",
        "net=my_model(xc_train_g, NL, conv_layers, kers)\n",
        "\n",
        "# Conversion of data in ELM format  \n",
        "Samples_g=chainer.variable.as_array(net.T)\n",
        "Labels=np.reshape(y_train_nc+1,(1,np.shape(y_train_nc)[0]))\n",
        "Y=2*y_train.T-1\n",
        "t2=ti.time(); print('Train set convolution time:', t2-t1,' seconda')\n",
        "# ----------------------- IMPLEMENT CONV LAYERS ON TEST SET\n",
        "t1=ti.time()\n",
        "net=my_model(xc_test_g, NL, conv_layers, kers)\n",
        "\n",
        "# Conversie pe CP var NUMPY \n",
        "ts_Samples_g=chainer.variable.as_array(net.T)\n",
        "ts_Labels=np.reshape(y_test_nc+1,(1,np.shape(y_test_nc)[0]))\n",
        "t2=ti.time(); print('Test set convolution time', t2-t1,' seconds')\n",
        "\n",
        "clase=np.max(Labels); print('Classes: ',clase)\n",
        "out_conv=np.shape(net)[1]\n",
        "print('===============  convolved data =========================================')\n",
        "print('Size of the output, convolved layer (nout): ',out_conv)\n",
        "print('===============Now ELM training ===============================================')\n",
        "\n",
        "\n",
        "\n",
        "Labels_g=cp.asarray(Labels)\n",
        "Y_g=cp.asarray(Y)\n",
        "ts_Labels_g=cp.asarray(ts_Labels)\n",
        "\n",
        "#-------------------------------------------------------------------\n",
        "# ELM running  \n",
        "import time as ti \n",
        "\n",
        "#================= TRAIN ELM =====================================================\n",
        "t1 = ti.time()\n",
        "if nr_neuroni==0:\n",
        "    nb_in=0\n",
        "if nb_in>0:\n",
        "    inW, outW = elmTrain_fix(Samples_g, Y_g, nr_neuroni, C, tip, nb_in)\n",
        "else:\n",
        "    inW, outW = elmTrain_optim(Samples_g, Y_g, nr_neuroni, C, tip)\n",
        "trun = ti.time()-t1\n",
        "print(\" training time: %f seconds\" %trun)\n",
        "\n",
        "# ==============  Quantify the output layer ======================================\n",
        "Qout=-1+pow(2,nb_out-1)\n",
        "if nb_out>0:\n",
        "     O=cp.max(cp.abs(outW))\n",
        "     outW=cp.round_(outW*(1/O)*Qout)\n",
        "\n",
        "del Samples_g\n",
        "#====================== VALIDATION PHASE (+ Accuracy evaluation) =================\n",
        "t1 = ti.time()\n",
        "(pred_g, acc_g) = elmPredict_optim(ts_Samples_g, inW, outW, tip, ts_Labels_g)\n",
        "trun = ti.time()-t1\n",
        "print( \" prediction time: %f seconds\" %trun)\n",
        "print('ELM latency',1e6*trun/np.shape(ts_Labels)[1],' us')\n",
        "accuracy=cp.asnumpy(acc_g)\n",
        "\n",
        "print('----------------------------------------------------------')\n",
        "print('|              Accuracy is: ', 100*acc_g, '%             |')\n",
        "print('----------------------------------------------------------')\n",
        "\n",
        "print('===========Structure information ===============================')\n",
        "szk=len(kers)\n",
        "kbits=0\n",
        "for ii in range(szk):\n",
        "  kbits+=np.prod(np.shape(cp.asnumpy(kers[ii])))\n",
        "print('CONV: Number of bits in convolutional kernels: ', kbits)\n",
        "print('OUTP: Number of its in the output layer - ELM0: ', 8*clase*out_conv)\n",
        "\n",
        "print( \"Number of hidden neurons: %d\" %nr_neuroni)\n",
        "#print( \"Hidden nonlinearity (0=sigmoid; 1=linsat; 2=Relu; 3 - ABS; 4- multiquadric): %d\" %tip)\n",
        "print('Number of conv filters:  as follows: conv_layers:',conv_layers,' nf1:', nf1,' nf2: ', nf2, 'nf3: ',nf3 ) \n",
        "#print('C= ',C)   \n",
        "\n",
        "#====================================================================================   \n",
        "if accuracy>best_ac:\n",
        "  best_ac=accuracy\n",
        "  best_outw=outW\n",
        "  # update bk \n",
        "  print('Bk updated')\n",
        "  bk=kers\n",
        "\n",
        "All=np.append(All, accuracy)"
      ],
      "execution_count": 18,
      "outputs": [
        {
          "output_type": "stream",
          "text": [
            "(10000, 144, 8, 8)\n",
            "Train set convolution time: 0.43201589584350586  seconda\n",
            "(10000, 144, 8, 8)\n",
            "Test set convolution time 0.7757294178009033  seconds\n",
            "Classes:  10\n",
            "===============  convolved data =========================================\n",
            "Size of the output, convolved layer (nout):  9216\n",
            "===============Now ELM training ===============================================\n",
            "LLL - Less neurons than training samples\n",
            " training time: 3.623135 seconds\n",
            " prediction time: 0.253428 seconds\n",
            "ELM latency 25.342845916748047  us\n",
            "----------------------------------------------------------\n",
            "|              Accuracy is:  60.309999999999995 %             |\n",
            "----------------------------------------------------------\n",
            "===========Structure information ===============================\n",
            "CONV: Number of bits in convolutional kernels:  1512\n",
            "OUTP: Number of its in the output layer - ELM0:  737280\n",
            "Number of hidden neurons: 0\n",
            "Number of conv filters:  as follows: conv_layers: 2  nf1: 8  nf2:  6 nf3:  2\n"
          ],
          "name": "stdout"
        }
      ]
    },
    {
      "cell_type": "code",
      "metadata": {
        "colab": {
          "base_uri": "https://localhost:8080/",
          "height": 332
        },
        "id": "yalXCUfGPAy8",
        "outputId": "a5dee9c3-186f-4ecb-d607-79516dc04527"
      },
      "source": [
        "# Run this cell to show the progress of CUPY-ELM training \n",
        "\n",
        "print(np.max(All))\n",
        "print(np.min(All))\n",
        "print(np.shape(All))\n",
        "import matplotlib.pyplot as plt\n",
        "plt.plot(All)\n",
        "print('Best accuracy is\":: ', best_ac)"
      ],
      "execution_count": 17,
      "outputs": [
        {
          "output_type": "stream",
          "text": [
            "0.6031\n",
            "0.5808\n",
            "(6,)\n",
            "Best accuracy is\"::  0.6031\n"
          ],
          "name": "stdout"
        },
        {
          "output_type": "display_data",
          "data": {
            "image/png": "[encoded data removed]",
            "text/plain": [
              "<Figure size 432x288 with 1 Axes>"
            ]
          },
          "metadata": {
            "tags": [],
            "needs_background": "light"
          }
        }
      ]
    },
    {
      "cell_type": "code",
      "metadata": {
        "colab": {
          "base_uri": "https://localhost:8080/"
        },
        "id": "IJ-GnVdplYYE",
        "outputId": "0e6468ab-fcbc-4a9a-d284-159682ac7035"
      },
      "source": [
        "np.shape(cp.asnumpy(bk[0]))"
      ],
      "execution_count": 20,
      "outputs": [
        {
          "output_type": "execute_result",
          "data": {
            "text/plain": [
              "(8, 3, 3, 3)"
            ]
          },
          "metadata": {
            "tags": []
          },
          "execution_count": 20
        }
      ]
    },
    {
      "cell_type": "code",
      "metadata": {
        "id": "bzlZ1LdkH18A"
      },
      "source": [
        "# CELL 7 - Defining a KERAS / TF Model \n",
        "#---------------------------------------------\n",
        "# Define a L-CNN base model (template to cast the BL-CNN optimized version)\n",
        "\n",
        "from keras.models import Sequential\n",
        "from keras.layers.normalization import BatchNormalization\n",
        "from keras.layers import Dense, Dropout, Flatten, Activation\n",
        "from keras.layers import Conv2D, DepthwiseConv2D, MaxPooling2D, AveragePooling2D, GlobalAveragePooling2D, SeparableConv2D  # straturi convolutionale si max-pooling \n",
        "from keras.optimizers import RMSprop, SGD, Adadelta, Adam, Nadam\n",
        "\n",
        "def create_l_cnn_base_model(input_shape, filtre1=10, filtre2=10, filtre3=10, flat=1, nl=(1,1), convs=3, num_clase=10):\n",
        "  # convs - cate straturi convolutionale sunt implementate \n",
        "  # Arguments: k - multiplication coefficient \n",
        " \n",
        "  csize1=3; csize2=3 ; csize3=3      # convolution kernel size (square kernel) \n",
        "  psize1=4; psize2=4 ; psize3=4      # pooling size (square)\n",
        "  str1=2; str2=2; str3=2             # stride pooling (downsampling rate) \n",
        "  pad='same'; # padding style ('valid' is also an alternative)\n",
        "  type_conv=1\n",
        "  \n",
        "  model = Sequential()\n",
        "  #================= LAYER 1 ========================================================\n",
        "  if type_conv==2:\n",
        "        model.add(Conv2D(filtre1, padding=pad, kernel_size=(csize1, csize1), input_shape=input_shape))\n",
        "  elif type_conv==1:\n",
        "        model.add(DepthwiseConv2D(kernel_size=csize1, padding=pad, input_shape=input_shape, depth_multiplier=filtre1, use_bias=False))\n",
        "        # partea de mai jos emuleaza nl-cnn\n",
        "        if nl[0]>1:\n",
        "          for k in range(nl[0]-1): \n",
        "            model.add(Activation('relu'))\n",
        "            model.add(DepthwiseConv2D(kernel_size=csize1, padding=pad, depth_multiplier=1, use_bias=False))\n",
        " \n",
        "  model.add(MaxPooling2D(pool_size=(psize1, psize1),strides=(str1,str1),padding=pad))\n",
        "  if convs>1: \n",
        "  #================= LAYER 2 ========================================================\n",
        "    if type_conv==2:\n",
        "        model.add(Conv2D(filtre2, padding=pad, kernel_size=(csize2, csize2)) )\n",
        "    elif type_conv==1:\n",
        "        model.add(DepthwiseConv2D(kernel_size=csize2, padding=pad, depth_multiplier=filtre2, use_bias=False))\n",
        "        # Partea de mai jos -- nl=2 \n",
        "        if nl[1]>1:\n",
        "          for k in range(nl[1]-1): \n",
        "            model.add(Activation('relu'))\n",
        "            model.add(DepthwiseConv2D(kernel_size=csize3, padding=pad, depth_multiplier=1, use_bias=False))\n",
        "       \n",
        "        #model.add(Activation('relu'))\n",
        "        #model.add(DepthwiseConv2D(kernel_size=csize2, padding=pad, depth_multiplier=1, use_bias=False))\n",
        "    #model.add(Activation('relu'))\n",
        "    model.add(MaxPooling2D(pool_size=(psize2, psize2),strides=(str2,str2),padding=pad))\n",
        "  if convs>2:\n",
        "  #================= LAYER 3 ========================================================\n",
        "    if type_conv==2:\n",
        "        model.add(Conv2D(filtre3, padding=pad, kernel_size=(csize3, csize3)) )\n",
        "    elif type_conv==1:\n",
        "        model.add(DepthwiseConv2D(kernel_size=csize3, padding=pad, depth_multiplier=filtre3, use_bias=False))\n",
        "  #model.add(Activation('relu'))\n",
        "    model.add(MaxPooling2D(pool_size=(psize3, psize3),strides=(str3,str3),padding=pad))\n",
        "  #================= out \n",
        "  if flat==1:\n",
        "      model.add(Flatten())  # \n",
        "  elif flat==0:\n",
        "      model.add(GlobalAveragePooling2D()) # Global average \n",
        "  # Output dense layer  \n",
        "  model.add(Dense(num_clase,activation='softmax'))\n",
        "  return model\n"
      ],
      "execution_count": 19,
      "outputs": []
    },
    {
      "cell_type": "code",
      "metadata": {
        "colab": {
          "base_uri": "https://localhost:8080/"
        },
        "id": "kHHkv4i8Lyj4",
        "outputId": "b4422397-01a1-4b02-ee6f-e9ccc50b2204"
      },
      "source": [
        "# CELL 8 - IMPLEMENT THE MODEL AND DO THE TRANSFER (if randk=0) from the ELM-trained CUPY/CHAINER model \n",
        "# IF randk=1 A BINARY CNN MODEL IS GENERATED  \n",
        "\n",
        "#-------------------------------------------------------------------------------\n",
        "# Create a base model with binary non-trinable weights optimized via Cupy ELM \n",
        "# bk is used to load the kernel weights \n",
        "\n",
        "import numpy as np\n",
        "import tensorflow as tf\n",
        "import keras\n",
        "trainable=False\n",
        "\n",
        "#--- if commented they are defined in ELM-CUPY section above \n",
        "# uncomment\n",
        "randk=0 # Choose 0 to load the optimzed bk from CUPY-ELM training ( if =1 -> random binary )\n",
        "if randk==1:\n",
        "  # Ignores any ELM-CUPY-training\n",
        "  NL=(1,1)\n",
        "  (nf1,nf2,nf3)=(10,6,2)\n",
        "  conv_layers=2\n",
        "\n",
        "model=create_l_cnn_base_model(input_shape, nf1, nf2, nf3, flat=1, nl=NL, convs=conv_layers, num_clase=num_classes)\n",
        "\n",
        "\n",
        "allw=model.get_weights()\n",
        "nr=NL[0]\n",
        "if conv_layers>1:\n",
        "  nr=nr+NL[1] \n",
        "if conv_layers>2:\n",
        "  nr=nr+1\n",
        "\n",
        "\n",
        "ballw=allw # preparing weights for binarization \n",
        "for i in range(nr):\n",
        "  print('Layer: ',i,' weight shape', np.shape(allw[i]), 'Min: ',np.min(allw[i]), 'Max: ',np.max(allw[i]))\n",
        "  s1=np.shape(allw[i])\n",
        "  tsize=np.shape(np.shape(allw[i]))[0]\n",
        "  #print(np.shape(tsize))\n",
        "  if trainable==False:\n",
        "    if tsize == 4: # Convolutional layer \n",
        "      # Kernels bk - saved previously \n",
        "      if  randk==0: \n",
        "        kerns=cp.asnumpy(bk[i])\n",
        "        kkers=kerns.transpose(2,3,1,0) # Compatibility issue (Chainer -- Keras)\n",
        "        print('Shape Kers: ', np.shape(kkers))\n",
        "        ballw[i]=kkers\n",
        "        print('Shape ballw', np.shape(ballw[i]))\n",
        "      elif randk==1:\n",
        "        ballw[i]=np.sign(np.random.rand(s1[0],s1[1],s1[2],s1[3])-0.5)\n",
        "    elif tsize== 1: # It's not the case for depthwise \n",
        "      ballw[i]=np.sign(np.random.rand(s1[0])-0.5)\n",
        "\n",
        "\n",
        "  print('-------- Layer: ',i,' weights shape', np.shape(ballw[i]), 'Min: ',np.min(ballw[i]), 'Max: ',np.max(ballw[i]))\n",
        "\n",
        "\n",
        "model.set_weights(ballw)\n",
        "\n",
        "# This is needed in TF2.5. \n",
        "inp_shape=(None, input_shape[0], input_shape[1], input_shape[2] )   # Needed in TF2.5 \n",
        "model.build(input_shape=inp_shape)\n",
        "\n",
        "\n",
        "\n",
        "#------------ transfer ELM trained weights to the output layer \n",
        "if randk==0:\n",
        "  bp=model.get_weights()\n",
        "  print(np.shape(bp[nr]))\n",
        "  bp[nr]=(1/1000)*cp.asnumpy(outW)\n",
        "  bp[nr+1]=0*bp[nr+1]   # Bias is 0 \n",
        "  model.set_weights((bp))\n",
        "\n",
        "#-------------------------------------------\n",
        "if randk==1 :\n",
        "  lr=0.001\n",
        "else:\n",
        "  lr=0.00001\n",
        "\n",
        "myopt = Adam(learning_rate=lr)\n",
        "#myopt= RMSprop(learning_rate=0.00001)\n",
        "\n",
        "  # --------------------------   LOSS function  ------------------------------------\n",
        "my_loss='categorical_crossentropy'\n",
        "model.compile(loss=my_loss, \n",
        "              optimizer=myopt,   # any other optimization \n",
        "              metrics=['accuracy'])\n",
        "\n",
        "# If trainable=False - Makes all layers except the last non-trainable (to store binary weights)  \n",
        "nrlayers=len(model.layers)\n",
        "if trainable==False:\n",
        "\n",
        "  for i in range(nrlayers-1):\n",
        "      model.layers[i].trainable=False\n",
        "\n",
        "\n",
        "model.summary()\n"
      ],
      "execution_count": 21,
      "outputs": [
        {
          "output_type": "stream",
          "text": [
            "Layer:  0  weight shape (3, 3, 3, 8) Min:  -0.24451306 Max:  0.2457743\n",
            "Shape Kers:  (3, 3, 3, 8)\n",
            "Shape ballw (3, 3, 3, 8)\n",
            "-------- Layer:  0  weights shape (3, 3, 3, 8) Min:  -1.0 Max:  1.0\n",
            "Layer:  1  weight shape (3, 3, 24, 6) Min:  -0.14894283 Max:  0.14903407\n",
            "Shape Kers:  (3, 3, 24, 6)\n",
            "Shape ballw (3, 3, 24, 6)\n",
            "-------- Layer:  1  weights shape (3, 3, 24, 6) Min:  -1.0 Max:  1.0\n",
            "(9216, 10)\n",
            "Model: \"sequential\"\n",
            "_________________________________________________________________\n",
            "Layer (type)                 Output Shape              Param #   \n",
            "=================================================================\n",
            "depthwise_conv2d (DepthwiseC (None, 32, 32, 24)        216       \n",
            "_________________________________________________________________\n",
            "max_pooling2d (MaxPooling2D) (None, 16, 16, 24)        0         \n",
            "_________________________________________________________________\n",
            "depthwise_conv2d_1 (Depthwis (None, 16, 16, 144)       1296      \n",
            "_________________________________________________________________\n",
            "max_pooling2d_1 (MaxPooling2 (None, 8, 8, 144)         0         \n",
            "_________________________________________________________________\n",
            "flatten (Flatten)            (None, 9216)              0         \n",
            "_________________________________________________________________\n",
            "dense (Dense)                (None, 10)                92170     \n",
            "=================================================================\n",
            "Total params: 93,682\n",
            "Trainable params: 92,170\n",
            "Non-trainable params: 1,512\n",
            "_________________________________________________________________\n"
          ],
          "name": "stdout"
        }
      ]
    },
    {
      "cell_type": "code",
      "metadata": {
        "colab": {
          "base_uri": "https://localhost:8080/"
        },
        "id": "Sk-MJIlTa8bl",
        "outputId": "c38aa612-e502-4706-d3af-ca7234a5527b"
      },
      "source": [
        "# CELL 9 - Evaluate the accuracy of the model \n",
        "# If OK skip to cell 12 and save the model \n",
        "# Else - additional Keras/Tensorflow training follows (eventually using the entire dataset)\n",
        "\n",
        "score=model.evaluate(x_test, y_test)\n",
        "print(score)\n",
        "\n"
      ],
      "execution_count": 23,
      "outputs": [
        {
          "output_type": "stream",
          "text": [
            "313/313 [==============================] - 1s 4ms/step - loss: 1.2578 - accuracy: 0.6031\n",
            "[1.2578084468841553, 0.6031000018119812]\n"
          ],
          "name": "stdout"
        }
      ]
    },
    {
      "cell_type": "code",
      "metadata": {
        "colab": {
          "base_uri": "https://localhost:8080/",
          "height": 1000
        },
        "id": "lK8HNlkvy-7Y",
        "outputId": "0ad56ea4-e992-48d5-dd5f-a0f8b5509081"
      },
      "source": [
        "# CELL 10 \n",
        "#-------------------------------------------------------------------\n",
        "# Additional training - if needed \n",
        "# Typically improves the accuracy even for the reduced train set \n",
        "# Loading the full dataset and training provides the best performance \n",
        "#-----------------  for reproductibility  ----------------------\n",
        "import tensorflow as tf \n",
        "import keras\n",
        "import numpy as np # linear algebra\n",
        "import keras.backend as K \n",
        "\n",
        "import time as ti \n",
        "import scipy.io as sio\n",
        "import matplotlib.pyplot as plt\n",
        "\n",
        "#=====================================================================\n",
        "batch_size = 100  # useful for MNIST, CIFAR, for ORL take 1  ( eg.50-200 large datasets - 1/1000 train set typicall)\n",
        "epoci = 40 # maximal number of training epochs (the best result may be obtained earlier)\n",
        "train_style = 2 # 1-standard Keras (not recommended) ; 2 epoch by epoch and keeping best test accuracy until \"epoci\"; \n",
        "#-------------- \n",
        "augment=0\n",
        "first_time=1\n",
        "\n",
        "if first_time==1:\n",
        "  best_acc=0.0; best_ep=0\n",
        "else:\n",
        "  from keras.models import load_model\n",
        "  best_acc=0.6\n",
        "  model=load_model('B-nlcnn_gtrsb_88_59.h5')\n",
        "  #model.summary()\n",
        "# ---------------------- For some date augmetation may help  \n",
        "from tensorflow.keras.preprocessing.image import ImageDataGenerator\n",
        "if augment==1:\n",
        "  data_generator = ImageDataGenerator(\n",
        "                        ### --- useful for FER2013 ---\n",
        "                                      \n",
        "                          featurewise_center=False,\n",
        "                          featurewise_std_normalization=False,\n",
        "                          rotation_range=10,\n",
        "                          width_shift_range=0.1,\n",
        "                          height_shift_range=0.1,\n",
        "                          zoom_range=.1,\n",
        "                          horizontal_flip=True \n",
        "                          )\n",
        "  \n",
        "                        #------- useful for CIFAR10 according to https://github.com/moritzhambach/Image-Augmentation-in-Keras-CIFAR-10-\n",
        "elif augment==2:\n",
        "  data_generator = ImageDataGenerator(\n",
        "                          rotation_range=15,\n",
        "                          horizontal_flip=True,\n",
        "                          width_shift_range=0.1,\n",
        "                          height_shift_range=0.1\n",
        "                        #------------------------------\n",
        "                         )\n",
        "elif augment==3:      # Proposed  in https://github.com/khanhnamle1994/fashion-mnist/blob/master/CNN-4Conv.ipynb\n",
        "  data_generator = ImageDataGenerator(rotation_range=8, width_shift_range=0.08, shear_range=0.3,\n",
        "                               height_shift_range=0.08, zoom_range=0.08)\n",
        "\n",
        "\n",
        "#=========================================================================================\n",
        "err_test=np.zeros(epoci)   # For plotting test error evolution  \n",
        "t1=ti.time()\n",
        "for k in range(epoci):\n",
        "      tx=ti.time()\n",
        "      # No augmentation \n",
        "      if augment==0:\n",
        "        model.fit(x_train, y_train,\n",
        "              batch_size=batch_size,\n",
        "              epochs=1,\n",
        "              verbose=0,  # aici 0 (nu afiseaza nimic) 1 (detaliat) 2(numai epocile)\n",
        "              validation_data=(x_test, y_test))\n",
        "        \n",
        "        # ---- Next lines to ensure the model is binary \n",
        "        # although conv layer are set Non-Trainable there is a small update there \n",
        "        bpt=model.get_weights()\n",
        "        #--- next lines ensure binary conv. values \n",
        "        last_layer=len(bpt)\n",
        "        for kz in range(last_layer-2):\n",
        "              bpt[kz]=np.sign(bpt[kz])\n",
        "        model.set_weights(bpt)\n",
        "        \n",
        "       #-----------------------------------------------\n",
        "      elif augment>0:\n",
        "        # Augmented data \n",
        "          model.fit_generator(data_generator.flow(x_train, y_train,\n",
        "              batch_size=batch_size),\n",
        "              epochs=1,shuffle=False, \n",
        "              verbose=0,  # no display \n",
        "              validation_data=(x_test, y_test))\n",
        "              #,callbacks=callbacks)        \n",
        "      ty=ti.time()\n",
        "      print('/',k,'epoch lasted ',ty-tx,' seconds')\n",
        "      \n",
        "      score = model.evaluate(x_test, y_test, verbose=0)\n",
        "\n",
        "      err_test[k]=score[1]\n",
        "      if score[1]>best_acc : \n",
        "            print('Improved in epoch:', k, ' New accuracy: ', 100*score[1],'%')\n",
        "            best_acc=score[1]\n",
        "            best_ep=k\n",
        "            bp=model.get_weights()\n",
        "            \n",
        "t2=ti.time()\n",
        "print('Best accuracy:', best_acc*100, '% reached in epoch: ',best_ep, ' running  ',epoci,' epochs lasts ',t2-t1,' seconds')\n",
        "plt.plot(err_test)\n",
        "model.set_weights((bp)) # evaluete prediction time on all test samples\n",
        "t1=ti.time()\n",
        "score = model.evaluate(x_test, y_test, verbose=0)\n",
        "t2=ti.time()\n",
        "print ('Numar total de parametri: ',model.count_params())\n",
        "print('Test accuracy:', score[1])\n",
        "print ('Time for test set : ',t2-t1)\n",
        "print('Latency (per input sample):', 1000*(t2-t1)/np.shape(x_test)[0], 'ms')\n"
      ],
      "execution_count": 24,
      "outputs": [
        {
          "output_type": "stream",
          "text": [
            "/ 0 epoch lasted  4.85748553276062  seconds\n",
            "Improved in epoch: 0  New accuracy:  60.14000177383423 %\n",
            "/ 1 epoch lasted  2.664945125579834  seconds\n",
            "Improved in epoch: 1  New accuracy:  60.47000288963318 %\n",
            "/ 2 epoch lasted  5.238701343536377  seconds\n",
            "/ 3 epoch lasted  5.217686414718628  seconds\n",
            "Improved in epoch: 3  New accuracy:  60.49000024795532 %\n",
            "/ 4 epoch lasted  2.88517427444458  seconds\n",
            "Improved in epoch: 4  New accuracy:  60.96000075340271 %\n",
            "/ 5 epoch lasted  2.92218279838562  seconds\n",
            "/ 6 epoch lasted  2.6585679054260254  seconds\n",
            "Improved in epoch: 6  New accuracy:  60.97999811172485 %\n",
            "/ 7 epoch lasted  2.6679394245147705  seconds\n",
            "/ 8 epoch lasted  2.6234405040740967  seconds\n",
            "/ 9 epoch lasted  2.9108381271362305  seconds\n",
            "Improved in epoch: 9  New accuracy:  61.000001430511475 %\n",
            "/ 10 epoch lasted  2.6728296279907227  seconds\n",
            "/ 11 epoch lasted  5.21073055267334  seconds\n",
            "Improved in epoch: 11  New accuracy:  61.03000044822693 %\n",
            "/ 12 epoch lasted  2.8973183631896973  seconds\n",
            "/ 13 epoch lasted  5.215115547180176  seconds\n",
            "/ 14 epoch lasted  2.851609945297241  seconds\n",
            "Improved in epoch: 14  New accuracy:  61.29000186920166 %\n",
            "/ 15 epoch lasted  5.217699289321899  seconds\n",
            "/ 16 epoch lasted  5.214663505554199  seconds\n",
            "/ 17 epoch lasted  5.239675283432007  seconds\n",
            "/ 18 epoch lasted  2.620680093765259  seconds\n",
            "/ 19 epoch lasted  5.2307257652282715  seconds\n",
            "/ 20 epoch lasted  5.21427583694458  seconds\n",
            "Improved in epoch: 20  New accuracy:  61.330002546310425 %\n",
            "/ 21 epoch lasted  2.921125650405884  seconds\n",
            "/ 22 epoch lasted  2.61692214012146  seconds\n",
            "/ 23 epoch lasted  5.215937614440918  seconds\n",
            "/ 24 epoch lasted  2.849336862564087  seconds\n",
            "/ 25 epoch lasted  2.657539129257202  seconds\n",
            "Improved in epoch: 25  New accuracy:  61.36000156402588 %\n",
            "/ 26 epoch lasted  2.6919639110565186  seconds\n",
            "/ 27 epoch lasted  2.89812970161438  seconds\n",
            "Improved in epoch: 27  New accuracy:  61.580002307891846 %\n",
            "/ 28 epoch lasted  5.215253591537476  seconds\n",
            "/ 29 epoch lasted  2.906890869140625  seconds\n",
            "/ 30 epoch lasted  2.654938220977783  seconds\n",
            "/ 31 epoch lasted  2.6289308071136475  seconds\n",
            "/ 32 epoch lasted  2.6606292724609375  seconds\n",
            "/ 33 epoch lasted  2.6588964462280273  seconds\n",
            "/ 34 epoch lasted  5.213062047958374  seconds\n",
            "/ 35 epoch lasted  5.216082811355591  seconds\n",
            "/ 36 epoch lasted  5.217603445053101  seconds\n",
            "Improved in epoch: 36  New accuracy:  61.900001764297485 %\n",
            "/ 37 epoch lasted  2.6623332500457764  seconds\n",
            "/ 38 epoch lasted  2.6536459922790527  seconds\n",
            "/ 39 epoch lasted  2.63449764251709  seconds\n",
            "Best accuracy: 61.900001764297485 % reached in epoch:  36  running   40  epochs lasts  192.76101160049438  seconds\n",
            "Numar total de parametri:  93682\n",
            "Test accuracy: 0.6190000176429749\n",
            "Time for test set :  1.0104374885559082\n",
            "Latency (per input sample): 0.10104374885559082 ms\n"
          ],
          "name": "stdout"
        },
        {
          "output_type": "display_data",
          "data": {
            "image/png": "[encoded data removed]",
            "text/plain": [
              "<Figure size 432x288 with 1 Axes>"
            ]
          },
          "metadata": {
            "tags": [],
            "needs_background": "light"
          }
        }
      ]
    },
    {
      "cell_type": "code",
      "metadata": {
        "colab": {
          "base_uri": "https://localhost:8080/"
        },
        "id": "k8RV2rvCcias",
        "outputId": "cf98319d-08fb-47f5-e51e-fee7e927a284"
      },
      "source": [
        "import gc\n",
        "gc.collect()\n",
        "# Can be used to free some RAM "
      ],
      "execution_count": 27,
      "outputs": [
        {
          "output_type": "execute_result",
          "data": {
            "text/plain": [
              "24138"
            ]
          },
          "metadata": {
            "tags": []
          },
          "execution_count": 27
        }
      ]
    },
    {
      "cell_type": "code",
      "metadata": {
        "colab": {
          "base_uri": "https://localhost:8080/",
          "height": 332
        },
        "id": "7v7ToO68A0Gt",
        "outputId": "743b52d8-499c-40bc-a7cc-2adfee831cec"
      },
      "source": [
        "#print('Best accuracy:', best_acc*100, '% reached in epoch: ',best_ep, ' running  ',epoci,' epochs lasts ',t2-t1,' seconds')\n",
        "plt.plot(err_test)\n",
        "model.set_weights((bp)) # evaluete prediction time on all test samples\n",
        "t1=ti.time()\n",
        "score = model.evaluate(x_test, y_test, verbose=0)\n",
        "t2=ti.time()\n",
        "print ('Numar total de parametri: ',model.count_params())\n",
        "print('Test accuracy:', score[1])\n",
        "print ('Time for test set : ',t2-t1)\n",
        "print('Latency (per input sample):', 1000*(t2-t1)/np.shape(x_test)[0], 'ms')\n"
      ],
      "execution_count": 26,
      "outputs": [
        {
          "output_type": "stream",
          "text": [
            "Numar total de parametri:  93682\n",
            "Test accuracy: 0.6190000176429749\n",
            "Time for test set :  1.3713631629943848\n",
            "Latency (per input sample): 0.13713631629943848 ms\n"
          ],
          "name": "stdout"
        },
        {
          "output_type": "display_data",
          "data": {
            "image/png": "[encoded data removed]",
            "text/plain": [
              "<Figure size 432x288 with 1 Axes>"
            ]
          },
          "metadata": {
            "tags": [],
            "needs_background": "light"
          }
        }
      ]
    },
    {
      "cell_type": "code",
      "metadata": {
        "colab": {
          "base_uri": "https://localhost:8080/"
        },
        "id": "mk6B3xwP2ETs",
        "outputId": "ad9872ca-0cb8-4c61-abbd-196797f4349b"
      },
      "source": [
        "# CELL 11 - FIXED POINT QUANTIZATION OF THE OUTPUT DENSE LAYER \n",
        "#---------------------------------------------------------------\n",
        "# QMLP0 (quantified MLP0 module)\n",
        "# Quantization of the above resulted model (only for MLP0)\n",
        "# Copyright Radu and Ioana DOGARU;  \n",
        "#=============================================================\n",
        "nb_out=13  # Quantization factor (bits per weight)\n",
        "#-------------------------------------------------------------------\n",
        "outWx=bp.copy()\n",
        "Qout=-1+pow(2,nb_out-1)\n",
        "# Fixed point quantization in output dense layer \n",
        "if (nb_out >0) :\n",
        "    O=np.max(np.abs(outWx[0]))\n",
        "    outWx[last_layer-2]=np.round(outWx[last_layer-2]*(1/O)*Qout)\n",
        "    outWx[last_layer-1]=np.round(outWx[last_layer-1]*(1/O)*Qout)\n",
        "    model.set_weights(outWx)\n",
        "    score = model.evaluate(x_test, y_test, verbose=0)\n",
        "    best_acc=score[1]\n",
        "    print('Output layer quantized with:', nb_out, 'bits')\n",
        "    print('Quantified accuracy is:', best_acc*100,'%')\n",
        "else: \n",
        "    model.set_weights(outWx)\n",
        "    score = model.evaluate(x_test, y_test, verbose=0)\n",
        "    best_acc=score[1]\n",
        "    print('Output layer quantized with:', nb_out, 'bits')\n",
        "    print('Quantified accuracy is:', best_acc*100,'%')\n",
        "outWx=model.get_weights() # the resulting model with fixed point weights"
      ],
      "execution_count": 28,
      "outputs": [
        {
          "output_type": "stream",
          "text": [
            "Output layer quantized with: 13 bits\n",
            "Quantified accuracy is: 61.820000410079956 %\n"
          ],
          "name": "stdout"
        }
      ]
    },
    {
      "cell_type": "code",
      "metadata": {
        "colab": {
          "base_uri": "https://localhost:8080/"
        },
        "id": "00MteB6N9_2X",
        "outputId": "8a770bdb-bd71-4cc8-ec4b-5a6a5d111ed7"
      },
      "source": [
        "level=0\n",
        "print(np.shape(outWx[level]))\n",
        "print('MAX: ', np.max(outWx[level][:]))\n",
        "print('MIN: ',np.min(outWx[level][:]))\n",
        "#np.histogram(outWx[level])"
      ],
      "execution_count": 32,
      "outputs": [
        {
          "output_type": "stream",
          "text": [
            "(3, 3, 3, 8)\n",
            "MAX:  1.0\n",
            "MIN:  -1.0\n"
          ],
          "name": "stdout"
        }
      ]
    },
    {
      "cell_type": "code",
      "metadata": {
        "colab": {
          "base_uri": "https://localhost:8080/",
          "height": 754
        },
        "id": "cT9sjsn815KE",
        "outputId": "b542f3b1-b1cb-4bf9-8ca9-13d5da79d851"
      },
      "source": [
        "# CELL 12 - SAVE THE MODEL \n",
        "#--------------------------------------\n",
        "# SAVING and visualising model \n",
        "#-----------------------------------------------------------\n",
        "nume_dorit='B-nlcnn_cif10_61_82'  # Desired name for the file \n",
        "model.save(nume_dorit+'.h5')  \n",
        "#tf.keras.models.save_model(model,'tmp.h5')\n",
        "from keras.utils.vis_utils import plot_model\n",
        "plot_model(model, to_file=nume_dorit+'.png', show_shapes=True, show_layer_names=True, dpi=96)"
      ],
      "execution_count": 33,
      "outputs": [
        {
          "output_type": "execute_result",
          "data": {
            "image/png": "[encoded data removed]",
            "text/plain": [
              "<IPython.core.display.Image object>"
            ]
          },
          "metadata": {
            "tags": []
          },
          "execution_count": 33
        }
      ]
    },
    {
      "cell_type": "code",
      "metadata": {
        "colab": {
          "base_uri": "https://localhost:8080/"
        },
        "id": "bGp5hFsY-itq",
        "outputId": "b06fa0a7-fc7a-4bb7-dc54-302113bdcd44"
      },
      "source": [
        "model.summary()"
      ],
      "execution_count": 27,
      "outputs": [
        {
          "output_type": "stream",
          "text": [
            "Model: \"sequential\"\n",
            "_________________________________________________________________\n",
            "Layer (type)                 Output Shape              Param #   \n",
            "=================================================================\n",
            "depthwise_conv2d (DepthwiseC (None, 32, 32, 36)        324       \n",
            "_________________________________________________________________\n",
            "max_pooling2d (MaxPooling2D) (None, 16, 16, 36)        0         \n",
            "_________________________________________________________________\n",
            "depthwise_conv2d_1 (Depthwis (None, 16, 16, 180)       1620      \n",
            "_________________________________________________________________\n",
            "max_pooling2d_1 (MaxPooling2 (None, 8, 8, 180)         0         \n",
            "_________________________________________________________________\n",
            "flatten (Flatten)            (None, 11520)             0         \n",
            "_________________________________________________________________\n",
            "dense (Dense)                (None, 10)                115210    \n",
            "=================================================================\n",
            "Total params: 117,154\n",
            "Trainable params: 115,210\n",
            "Non-trainable params: 1,944\n",
            "_________________________________________________________________\n"
          ],
          "name": "stdout"
        }
      ]
    }
  ]
}